{
 "cells": [
  {
   "cell_type": "markdown",
   "metadata": {},
   "source": [
    "# 05. Logistic regression\n",
    "\n",
    "#### 1. Download data from https://science.sciencemag.org/content/359/6378/926 (supplementary materials). If you do not succeed, you will find _aar3247_Cohen_SM_Tables-S1-S11.xlsx_ file in the homework's folder.\n",
    " - read the actract of the article to get familiar with data origin\n",
    " - open the data in excel and get familiar with its content\n",
    " - load the protein level data (you need to figure out which one is that) as a pandas dataframe\n",
    " - handle missing values and convert features to numeric values when it is needed\n",
    " - get rid of the unnecessary (which does not encode protein levels or the tumor type) columns and the CancerSEEK results\n",
    "\n",
    "#### 2. Predict if a sample is cancerous or not\n",
    " - your need to build a classifier that predicts the probability of a sample coming from a cancerous (tumor type is normal or not) person based on the measured protein levels\n",
    " - train a logistic regression (sklearn API) on every second sample (not first 50% of the data (!), use every second line)\n",
    " - generate prediction for the samples that were not used during the training\n",
    "\n",
    "#### 3. Comparision to CancerSEEK\n",
    " - plot the ROC curve and calculate the confusion matrix for the predictions\n",
    " - do the same for the CancerSEEK predictions\n",
    " - compare your model's performance to CancerSEEK performance\n",
    "\n",
    "#### 4. Hepatocellular carcinoma\n",
    " - fit a logistic regression (using statsmodels API this time) to predict if a sample has Hepatocellular carcinoma (liver cancer) or not. You need to keep only the liver and the normal samples for this exercise! For fitting use only the first 25 features and all the rows (which are liver or normal)\n",
    " - select the 5 best predictor based on P values.\n",
    " - Write down the most important features (based on P value) and compare them to the tumor markers that you find on wikipeida https://en.wikipedia.org/wiki/Hepatocellular_carcinoma or other sources!\n",
    "\n",
    "#### 5. Multiclass classification\n",
    " - Again, using every second datapoint train a logistic regression (sklearn API) to predict the tumor type. It is a multiclass classification problem.\n",
    " - Generate prediction for the rest of the dataset and show the confusion matrix for the predictions!\n",
    " - Plot the ROC curves for the different cancer types on the same plot! \n",
    " - Intepret your results. Which cancer type can be predicted the most reliably?\n",
    "\n",
    "\n",
    "### Hints:\n",
    " - On total you can get 10 points for fully completing all tasks.\n",
    " - Decorate your notebook with, questions, explanation etc, make it self contained and understandable!\n",
    " - Comments you code when necessary\n",
    " - Write functions for repetitive tasks!\n",
    " - Use the pandas package for data loading and handling\n",
    " - Use matplotlib and seaborn for plotting or bokeh and plotly for interactive investigation\n",
    " - Use the scikit learn package for almost everything\n",
    " - Use for loops only if it is really necessary!\n",
    " - Code sharing is not allowed between student! Sharing code will result in zero points.\n",
    " - If you use code found on web, it is OK, but, make its source clear! "
   ]
  },
  {
   "cell_type": "code",
   "execution_count": 1,
   "metadata": {},
   "outputs": [],
   "source": [
    "import pandas as pd\n",
    "import numpy as np\n",
    "import matplotlib.pyplot as plt\n",
    "import seaborn as sns"
   ]
  },
  {
   "cell_type": "markdown",
   "metadata": {},
   "source": [
    "# 1. Download data from https://science.sciencemag.org/content/359/6378/926 (supplementary materials). If you do not succeed, you will find _aar3247_Cohen_SM_Tables-S1-S11.xlsx_ file in the homework's folder.\n",
    " - read the abstract of the article to get familiar with data origin\n",
    " - open the data in excel and get familiar with its content\n",
    " - load the protein level data (you need to figure out which one is that) as a pandas dataframe\n",
    " - handle missing values and convert features to numeric values when it is needed\n",
    " - get rid of the unnecessary (which does not encode protein levels or the tumor type) columns and the CancerSEEK results"
   ]
  },
  {
   "cell_type": "code",
   "execution_count": 2,
   "metadata": {},
   "outputs": [],
   "source": [
    "data = pd.read_excel(\"aar3247_Cohen_SM_Tables-S1-S11.xlsx\",sheet_name=\"Table S6\",header=2, index_col=\"Sample ID #\")\n",
    "\n",
    "#Drop last 4 rows, they're all just nans\n",
    "data = data[:-4] \n",
    "\n",
    "#Dataframe mask for part 4\n",
    "mask4 = (data[\"Tumor type\"] == \"Normal\") | (data[\"Tumor type\"] == \"Liver\")\n",
    "\n",
    "# Convert categorical data to numerical values\n",
    "y_CSEEK = data[\"CancerSEEK Test Result\"].map({\"Positive\": 1, \"Negative\":0})\n",
    "y = data[\"Tumor type\"].map( lambda x: 0 if x == \"Normal\" else 1)\n",
    "\n",
    "# Drop unnecesary columns\n",
    "data = data.drop(columns = [\"Patient ID #\",\"AJCC Stage\",\"CancerSEEK Logistic Regression Score\",\"CancerSEEK Test Result\"])"
   ]
  },
  {
   "cell_type": "markdown",
   "metadata": {},
   "source": [
    "After looking through the table, I figured that there are cells with numerical features which has * or ** on the beginning of the numbers. We have to get rid of the *s and * * s, because the said cells'd be handled as they were strings, not actual numbers."
   ]
  },
  {
   "cell_type": "code",
   "execution_count": 3,
   "metadata": {},
   "outputs": [],
   "source": [
    "for col in data.columns[1:]:\n",
    "    data[ col ] = data[ col ].map(lambda x: float(x.lstrip(\"*\")) if isinstance(x, str) else x)\n",
    "    # If the cell value is of type string, it is because the cell has * or ** in it. If true remove * with lstrip \n",
    "    # from the left side of the cells, else return original."
   ]
  },
  {
   "cell_type": "markdown",
   "metadata": {},
   "source": [
    "We have missing features in the following columns:"
   ]
  },
  {
   "cell_type": "code",
   "execution_count": 4,
   "metadata": {},
   "outputs": [
    {
     "name": "stdout",
     "output_type": "stream",
     "text": [
      "AXL (pg/ml) : 6\n",
      "CD44 (ng/ml) : 6\n",
      "G-CSF (pg/ml) : 7\n",
      "Kallikrein-6 (pg/ml) : 6\n",
      "Mesothelin (ng/ml) : 6\n",
      "Midkine (pg/ml) : 6\n",
      "PAR (pg/ml) : 6\n",
      "sEGFR (pg/ml) : 6\n",
      "sFas (pg/ml) : 1\n",
      "sHER2/sEGFR2/sErbB2 (pg/ml) : 6\n",
      "sPECAM-1 (pg/ml) : 6\n",
      "Thrombospondin-2 (pg/ml) : 6\n",
      "\n",
      "ratio of missing features in the whole table:  0.0009364843276593401\n"
     ]
    }
   ],
   "source": [
    "num_of_na = data.isna().sum(axis=0) #Dict with number of missing features by column\n",
    "\n",
    "[print(x,\":\",num_of_na[x]) \n",
    " if num_of_na[x] != 0 \n",
    " else None \n",
    " for x in data.columns] # Broken into multiple lines for better readability\n",
    "\n",
    "print(\"\\nratio of missing features in the whole table: \", data.isna().sum().sum()/data.count().sum() )"
   ]
  },
  {
   "cell_type": "code",
   "execution_count": 5,
   "metadata": {},
   "outputs": [
    {
     "data": {
      "text/plain": [
       "(0, 0)"
      ]
     },
     "execution_count": 5,
     "metadata": {},
     "output_type": "execute_result"
    }
   ],
   "source": [
    "data = data.fillna(data.mean()) # Impute missing values with the mean of the columns\n",
    "data.isna().sum().sum(), y.isna().sum().sum()"
   ]
  },
  {
   "cell_type": "markdown",
   "metadata": {},
   "source": [
    "<b> No missing values."
   ]
  },
  {
   "cell_type": "markdown",
   "metadata": {},
   "source": [
    "# 2. Predict if a sample is cancerous or not\n",
    " - your need to build a classifier that predicts the probability of a sample coming from a cancerous (tumor type is normal or not) person based on the measured protein levels\n",
    " - train a logistic regression (sklearn API) on every second sample (not first 50% of the data (!), use every second line)\n",
    " - generate prediction for the samples that were not used during the training"
   ]
  },
  {
   "cell_type": "markdown",
   "metadata": {},
   "source": [
    "## Train-test split"
   ]
  },
  {
   "cell_type": "code",
   "execution_count": 6,
   "metadata": {},
   "outputs": [],
   "source": [
    "from sklearn.linear_model import LogisticRegression\n",
    "\n",
    "x_train = data[data.columns[1:]][::2] #Pick every second record.\n",
    "x_test = data[data.columns[1:]][1::2]\n",
    "y_train = y[::2]\n",
    "y_test = y[1::2]"
   ]
  },
  {
   "cell_type": "markdown",
   "metadata": {},
   "source": [
    "## Normalization"
   ]
  },
  {
   "cell_type": "code",
   "execution_count": 7,
   "metadata": {},
   "outputs": [],
   "source": [
    "from sklearn.preprocessing import StandardScaler, MinMaxScaler\n",
    "\n",
    "std_scaler = StandardScaler()\n",
    "mm_scaler = MinMaxScaler()\n",
    "\n",
    "x_train_std = std_scaler.fit_transform(x_train)\n",
    "x_test_std = std_scaler.transform(x_test)\n",
    "x_train_mm = mm_scaler.fit_transform(x_train)\n",
    "x_test_mm = mm_scaler.transform(x_test)"
   ]
  },
  {
   "cell_type": "markdown",
   "metadata": {},
   "source": [
    "## Fit & predict"
   ]
  },
  {
   "cell_type": "code",
   "execution_count": 8,
   "metadata": {},
   "outputs": [
    {
     "data": {
      "text/plain": [
       "LogisticRegression()"
      ]
     },
     "execution_count": 8,
     "metadata": {},
     "output_type": "execute_result"
    }
   ],
   "source": [
    "logreg_std = LogisticRegression()\n",
    "logreg_mm = LogisticRegression()\n",
    "\n",
    "logreg_std.fit(x_train_std,y_train)\n",
    "logreg_mm.fit(x_train_mm,y_train)"
   ]
  },
  {
   "cell_type": "code",
   "execution_count": 9,
   "metadata": {},
   "outputs": [],
   "source": [
    "y_predict_std = logreg_std.predict(x_test_std)\n",
    "y_predict_mm = logreg_mm.predict(x_test_mm)"
   ]
  },
  {
   "cell_type": "markdown",
   "metadata": {},
   "source": [
    "# 3. Comparison to CancerSEEK\n",
    " - plot the ROC curve and calculate the confusion matrix for the predictions\n",
    " - do the same for the CancerSEEK predictions\n",
    " - compare your model's performance to CancerSEEK performance\n"
   ]
  },
  {
   "cell_type": "code",
   "execution_count": 10,
   "metadata": {},
   "outputs": [
    {
     "data": {
      "text/plain": [
       "<sklearn.metrics._plot.confusion_matrix.ConfusionMatrixDisplay at 0x7f0ce5011f28>"
      ]
     },
     "execution_count": 10,
     "metadata": {},
     "output_type": "execute_result"
    },
    {
     "data": {
      "image/png": "[encoded data removed]",
      "text/plain": [
       "<Figure size 1152x864 with 6 Axes>"
      ]
     },
     "metadata": {
      "needs_background": "light"
     },
     "output_type": "display_data"
    }
   ],
   "source": [
    "from sklearn.metrics import plot_roc_curve, plot_confusion_matrix\n",
    "\n",
    "plt.figure(figsize=[16,12])\n",
    "plt.suptitle(\"Our model in comparison with the ground truth\",size=18)\n",
    "ax = plt.subplot(221)\n",
    "\n",
    "plot_roc_curve(logreg_std, x_test_std, y_test,ax=ax)\n",
    "plt.plot(np.linspace(0,1,100),np.linspace(0,1,100))\n",
    "plt.grid()\n",
    "plt.title(\"ROC Curve: StandardScaled data\")\n",
    "\n",
    "ax2 = plt.subplot(222)\n",
    "plot_roc_curve(logreg_mm,x_test_mm, y_test,ax = ax2)\n",
    "plt.plot(np.linspace(0,1,100),np.linspace(0,1,100))\n",
    "plt.grid()\n",
    "plt.title(\"ROC Curve: MinMaxScaled data\")\n",
    "\n",
    "ax3 = plt.subplot(223)\n",
    "plot_confusion_matrix(logreg_std, x_test_std, y_test, ax = ax3)\n",
    "\n",
    "ax4 = plt.subplot(224)\n",
    "plot_confusion_matrix(logreg_mm, x_test_mm, y_test, ax = ax4)"
   ]
  },
  {
   "cell_type": "markdown",
   "metadata": {},
   "source": [
    "TEXT"
   ]
  },
  {
   "cell_type": "code",
   "execution_count": 11,
   "metadata": {},
   "outputs": [
    {
     "data": {
      "text/plain": [
       "<matplotlib.colorbar.Colorbar at 0x7f0ce4f46358>"
      ]
     },
     "execution_count": 11,
     "metadata": {},
     "output_type": "execute_result"
    },
    {
     "data": {
      "image/png": "[encoded data removed]",
      "text/plain": [
       "<Figure size 1152x432 with 3 Axes>"
      ]
     },
     "metadata": {
      "needs_background": "light"
     },
     "output_type": "display_data"
    }
   ],
   "source": [
    "from sklearn.metrics import confusion_matrix\n",
    "\n",
    "conf_matr1 = pd.DataFrame(confusion_matrix(y_test,y_predict_std), columns = [0,1],index = [0,1])\n",
    "conf_matr2 = pd.DataFrame(confusion_matrix(y_test,y_predict_mm), columns = [0,1],index = [0,1])\n",
    "\n",
    "plt.figure(figsize=[16,6])\n",
    "plt.suptitle(\"Confusion matrices: our model in comparison with CancerSEEK results\",size=20)\n",
    "plt.subplot(121)\n",
    "plt.imshow(conf_matr1)\n",
    "for i in range(2):\n",
    "    for j in range(2):\n",
    "        plt.text(i,j, conf_matr1[i][j],ha=\"center\", va=\"center\", color=\"red\", size = 18)\n",
    "        \n",
    "plt.xticks(np.arange(2), labels = [0,1],size=16)\n",
    "plt.yticks(np.arange(2), labels = [0,1],size=16)\n",
    "plt.xlabel(\"Predicted label\",size=17)\n",
    "plt.ylabel(\"CancerSEEK Label\",size=17)\n",
    "plt.title(\"StandardScaled data\",size=17)\n",
    "\n",
    "plt.subplot(122)\n",
    "plt.imshow(conf_matr2)\n",
    "for i in range(2):\n",
    "    for j in range(2):\n",
    "        plt.text(i,j, conf_matr2[i][j],ha=\"center\", va=\"center\", color=\"red\", size = 18)\n",
    "        \n",
    "plt.xticks(np.arange(2), labels = [0,1],size=16)\n",
    "plt.yticks(np.arange(2), labels = [0,1],size=16)\n",
    "plt.xlabel(\"Predicted label\",size=17)\n",
    "plt.ylabel(\"CancerSEEK Label\",size=17)\n",
    "plt.title(\"MinMaxScaled data\",size=17)\n",
    "\n",
    "\n",
    "plt.colorbar()"
   ]
  },
  {
   "cell_type": "markdown",
   "metadata": {},
   "source": [
    "# 4. Hepatocellular carcinoma\n",
    " - fit a logistic regression (using statsmodels API this time) to predict if a sample has Hepatocellular carcinoma (liver cancer) or not. You need to keep only the liver and the normal samples for this exercise! For fitting use only the first 25 features and all the rows (which are liver or normal)\n",
    " - select the 5 best predictor based on P values.\n",
    " - Write down the most important features (based on P value) and compare them to the tumor markers that you find on wikipeida https://en.wikipedia.org/wiki/Hepatocellular_carcinoma or other sources!"
   ]
  },
  {
   "cell_type": "code",
   "execution_count": 25,
   "metadata": {},
   "outputs": [],
   "source": [
    "\n",
    "data4 = data[mask4] #Choose only samples with liver cancer and normal samples\n",
    "data4 = data4[data.columns[1:26]] #First 25 features, excluding Tumor type\n",
    "y4 = y[mask4]\n",
    "\n",
    "x4_train_std = std_scaler.fit_transform(data4)\n",
    "x4_train_mm = mm_scaler.fit_transform(data4)"
   ]
  },
  {
   "cell_type": "code",
   "execution_count": 26,
   "metadata": {},
   "outputs": [
    {
     "name": "stdout",
     "output_type": "stream",
     "text": [
      "Optimization terminated successfully.    (Exit mode 0)\n",
      "            Current function value: 0.029855900001259622\n",
      "            Iterations: 382\n",
      "            Function evaluations: 382\n",
      "            Gradient evaluations: 382\n",
      "Optimization terminated successfully.    (Exit mode 0)\n",
      "            Current function value: 0.02982874012922353\n",
      "            Iterations: 223\n",
      "            Function evaluations: 223\n",
      "            Gradient evaluations: 223\n"
     ]
    }
   ],
   "source": [
    "import statsmodels.api as sm\n",
    "from statsmodels.discrete.discrete_model import Logit\n",
    "x_statmet_mm = sm.add_constant(x4_train_mm)\n",
    "x_statmet_std = sm.add_constant(x4_train_std)\n",
    "\n",
    "logreg_sm_mm  = Logit(y4, x_statmet_mm).fit_regularized()\n",
    "logreg_sm_std = Logit(y4, x_statmet_std).fit_regularized()"
   ]
  },
  {
   "cell_type": "markdown",
   "metadata": {},
   "source": [
    "### Logreg standard scaled data SM summary"
   ]
  },
  {
   "cell_type": "code",
   "execution_count": 27,
   "metadata": {},
   "outputs": [
    {
     "data": {
      "text/html": [
       "<table class=\"simpletable\">\n",
       "<caption>Logit Regression Results</caption>\n",
       "<tr>\n",
       "  <th>Dep. Variable:</th>    <td>Tumor type</td>    <th>  No. Observations:  </th>  <td>   856</td>  \n",
       "</tr>\n",
       "<tr>\n",
       "  <th>Model:</th>               <td>Logit</td>      <th>  Df Residuals:      </th>  <td>   830</td>  \n",
       "</tr>\n",
       "<tr>\n",
       "  <th>Method:</th>               <td>MLE</td>       <th>  Df Model:          </th>  <td>    25</td>  \n",
       "</tr>\n",
       "<tr>\n",
       "  <th>Date:</th>          <td>Fri, 09 Oct 2020</td> <th>  Pseudo R-squ.:     </th>  <td>0.8528</td>  \n",
       "</tr>\n",
       "<tr>\n",
       "  <th>Time:</th>              <td>15:09:04</td>     <th>  Log-Likelihood:    </th> <td> -25.533</td> \n",
       "</tr>\n",
       "<tr>\n",
       "  <th>converged:</th>           <td>True</td>       <th>  LL-Null:           </th> <td> -173.44</td> \n",
       "</tr>\n",
       "<tr>\n",
       "  <th> </th>                      <td> </td>        <th>  LLR p-value:       </th> <td>4.136e-48</td>\n",
       "</tr>\n",
       "</table>\n",
       "<table class=\"simpletable\">\n",
       "<tr>\n",
       "    <td></td>       <th>coef</th>     <th>std err</th>      <th>z</th>      <th>P>|z|</th>  <th>[0.025</th>    <th>0.975]</th>  \n",
       "</tr>\n",
       "<tr>\n",
       "  <th>const</th> <td>   -7.5284</td> <td>    1.478</td> <td>   -5.095</td> <td> 0.000</td> <td>  -10.425</td> <td>   -4.632</td>\n",
       "</tr>\n",
       "<tr>\n",
       "  <th>x1</th>    <td>    2.0241</td> <td>    0.846</td> <td>    2.391</td> <td> 0.017</td> <td>    0.365</td> <td>    3.683</td>\n",
       "</tr>\n",
       "<tr>\n",
       "  <th>x2</th>    <td>   -0.2211</td> <td>    0.419</td> <td>   -0.527</td> <td> 0.598</td> <td>   -1.043</td> <td>    0.601</td>\n",
       "</tr>\n",
       "<tr>\n",
       "  <th>x3</th>    <td>    0.5377</td> <td>    0.559</td> <td>    0.962</td> <td> 0.336</td> <td>   -0.558</td> <td>    1.633</td>\n",
       "</tr>\n",
       "<tr>\n",
       "  <th>x4</th>    <td>    9.7777</td> <td>    4.856</td> <td>    2.014</td> <td> 0.044</td> <td>    0.261</td> <td>   19.294</td>\n",
       "</tr>\n",
       "<tr>\n",
       "  <th>x5</th>    <td>    0.6428</td> <td>    0.397</td> <td>    1.620</td> <td> 0.105</td> <td>   -0.135</td> <td>    1.421</td>\n",
       "</tr>\n",
       "<tr>\n",
       "  <th>x6</th>    <td>    0.1008</td> <td>    0.744</td> <td>    0.136</td> <td> 0.892</td> <td>   -1.357</td> <td>    1.559</td>\n",
       "</tr>\n",
       "<tr>\n",
       "  <th>x7</th>    <td>   -3.5118</td> <td>    1.359</td> <td>   -2.584</td> <td> 0.010</td> <td>   -6.175</td> <td>   -0.848</td>\n",
       "</tr>\n",
       "<tr>\n",
       "  <th>x8</th>    <td>   -2.0344</td> <td>    4.603</td> <td>   -0.442</td> <td> 0.659</td> <td>  -11.056</td> <td>    6.987</td>\n",
       "</tr>\n",
       "<tr>\n",
       "  <th>x9</th>    <td>    0.3858</td> <td>    0.878</td> <td>    0.439</td> <td> 0.660</td> <td>   -1.335</td> <td>    2.107</td>\n",
       "</tr>\n",
       "<tr>\n",
       "  <th>x10</th>   <td>   -3.3258</td> <td>    1.182</td> <td>   -2.814</td> <td> 0.005</td> <td>   -5.642</td> <td>   -1.010</td>\n",
       "</tr>\n",
       "<tr>\n",
       "  <th>x11</th>   <td>    0.2383</td> <td>    0.321</td> <td>    0.743</td> <td> 0.457</td> <td>   -0.390</td> <td>    0.867</td>\n",
       "</tr>\n",
       "<tr>\n",
       "  <th>x12</th>   <td>    0.5876</td> <td>    0.646</td> <td>    0.910</td> <td> 0.363</td> <td>   -0.679</td> <td>    1.854</td>\n",
       "</tr>\n",
       "<tr>\n",
       "  <th>x13</th>   <td>    0.7533</td> <td>    0.494</td> <td>    1.525</td> <td> 0.127</td> <td>   -0.215</td> <td>    1.721</td>\n",
       "</tr>\n",
       "<tr>\n",
       "  <th>x14</th>   <td>    0.1276</td> <td>    0.840</td> <td>    0.152</td> <td> 0.879</td> <td>   -1.519</td> <td>    1.774</td>\n",
       "</tr>\n",
       "<tr>\n",
       "  <th>x15</th>   <td>   -0.1852</td> <td>    0.523</td> <td>   -0.354</td> <td> 0.723</td> <td>   -1.210</td> <td>    0.840</td>\n",
       "</tr>\n",
       "<tr>\n",
       "  <th>x16</th>   <td>    0.4928</td> <td>    0.479</td> <td>    1.030</td> <td> 0.303</td> <td>   -0.445</td> <td>    1.431</td>\n",
       "</tr>\n",
       "<tr>\n",
       "  <th>x17</th>   <td>   -1.8493</td> <td>    0.748</td> <td>   -2.473</td> <td> 0.013</td> <td>   -3.315</td> <td>   -0.384</td>\n",
       "</tr>\n",
       "<tr>\n",
       "  <th>x18</th>   <td>    7.1537</td> <td>    2.173</td> <td>    3.292</td> <td> 0.001</td> <td>    2.894</td> <td>   11.413</td>\n",
       "</tr>\n",
       "<tr>\n",
       "  <th>x19</th>   <td>    0.2927</td> <td>    1.690</td> <td>    0.173</td> <td> 0.863</td> <td>   -3.020</td> <td>    3.606</td>\n",
       "</tr>\n",
       "<tr>\n",
       "  <th>x20</th>   <td>    0.3915</td> <td>    0.424</td> <td>    0.923</td> <td> 0.356</td> <td>   -0.440</td> <td>    1.223</td>\n",
       "</tr>\n",
       "<tr>\n",
       "  <th>x21</th>   <td>    0.2522</td> <td>    0.460</td> <td>    0.548</td> <td> 0.584</td> <td>   -0.650</td> <td>    1.155</td>\n",
       "</tr>\n",
       "<tr>\n",
       "  <th>x22</th>   <td>   -1.1679</td> <td>    0.915</td> <td>   -1.276</td> <td> 0.202</td> <td>   -2.962</td> <td>    0.626</td>\n",
       "</tr>\n",
       "<tr>\n",
       "  <th>x23</th>   <td>    0.9214</td> <td>    0.590</td> <td>    1.561</td> <td> 0.119</td> <td>   -0.236</td> <td>    2.078</td>\n",
       "</tr>\n",
       "<tr>\n",
       "  <th>x24</th>   <td>   -0.5763</td> <td>    0.647</td> <td>   -0.891</td> <td> 0.373</td> <td>   -1.844</td> <td>    0.691</td>\n",
       "</tr>\n",
       "<tr>\n",
       "  <th>x25</th>   <td>    1.0644</td> <td>    0.612</td> <td>    1.739</td> <td> 0.082</td> <td>   -0.135</td> <td>    2.264</td>\n",
       "</tr>\n",
       "</table><br/><br/>Possibly complete quasi-separation: A fraction 0.45 of observations can be<br/>perfectly predicted. This might indicate that there is complete<br/>quasi-separation. In this case some parameters will not be identified."
      ],
      "text/plain": [
       "<class 'statsmodels.iolib.summary.Summary'>\n",
       "\"\"\"\n",
       "                           Logit Regression Results                           \n",
       "==============================================================================\n",
       "Dep. Variable:             Tumor type   No. Observations:                  856\n",
       "Model:                          Logit   Df Residuals:                      830\n",
       "Method:                           MLE   Df Model:                           25\n",
       "Date:                Fri, 09 Oct 2020   Pseudo R-squ.:                  0.8528\n",
       "Time:                        15:09:04   Log-Likelihood:                -25.533\n",
       "converged:                       True   LL-Null:                       -173.44\n",
       "                                        LLR p-value:                 4.136e-48\n",
       "==============================================================================\n",
       "                 coef    std err          z      P>|z|      [0.025      0.975]\n",
       "------------------------------------------------------------------------------\n",
       "const         -7.5284      1.478     -5.095      0.000     -10.425      -4.632\n",
       "x1             2.0241      0.846      2.391      0.017       0.365       3.683\n",
       "x2            -0.2211      0.419     -0.527      0.598      -1.043       0.601\n",
       "x3             0.5377      0.559      0.962      0.336      -0.558       1.633\n",
       "x4             9.7777      4.856      2.014      0.044       0.261      19.294\n",
       "x5             0.6428      0.397      1.620      0.105      -0.135       1.421\n",
       "x6             0.1008      0.744      0.136      0.892      -1.357       1.559\n",
       "x7            -3.5118      1.359     -2.584      0.010      -6.175      -0.848\n",
       "x8            -2.0344      4.603     -0.442      0.659     -11.056       6.987\n",
       "x9             0.3858      0.878      0.439      0.660      -1.335       2.107\n",
       "x10           -3.3258      1.182     -2.814      0.005      -5.642      -1.010\n",
       "x11            0.2383      0.321      0.743      0.457      -0.390       0.867\n",
       "x12            0.5876      0.646      0.910      0.363      -0.679       1.854\n",
       "x13            0.7533      0.494      1.525      0.127      -0.215       1.721\n",
       "x14            0.1276      0.840      0.152      0.879      -1.519       1.774\n",
       "x15           -0.1852      0.523     -0.354      0.723      -1.210       0.840\n",
       "x16            0.4928      0.479      1.030      0.303      -0.445       1.431\n",
       "x17           -1.8493      0.748     -2.473      0.013      -3.315      -0.384\n",
       "x18            7.1537      2.173      3.292      0.001       2.894      11.413\n",
       "x19            0.2927      1.690      0.173      0.863      -3.020       3.606\n",
       "x20            0.3915      0.424      0.923      0.356      -0.440       1.223\n",
       "x21            0.2522      0.460      0.548      0.584      -0.650       1.155\n",
       "x22           -1.1679      0.915     -1.276      0.202      -2.962       0.626\n",
       "x23            0.9214      0.590      1.561      0.119      -0.236       2.078\n",
       "x24           -0.5763      0.647     -0.891      0.373      -1.844       0.691\n",
       "x25            1.0644      0.612      1.739      0.082      -0.135       2.264\n",
       "==============================================================================\n",
       "\n",
       "Possibly complete quasi-separation: A fraction 0.45 of observations can be\n",
       "perfectly predicted. This might indicate that there is complete\n",
       "quasi-separation. In this case some parameters will not be identified.\n",
       "\"\"\""
      ]
     },
     "execution_count": 27,
     "metadata": {},
     "output_type": "execute_result"
    }
   ],
   "source": [
    "#logreg_sm_mm.predict(logreg_sm_mm.params,x4_train_mm)\n",
    "logreg_sm_std.summary()"
   ]
  },
  {
   "cell_type": "markdown",
   "metadata": {},
   "source": [
    "### Logreg minmax scaled data SM summary"
   ]
  },
  {
   "cell_type": "code",
   "execution_count": 15,
   "metadata": {},
   "outputs": [
    {
     "data": {
      "text/html": [
       "<table class=\"simpletable\">\n",
       "<caption>Logit Regression Results</caption>\n",
       "<tr>\n",
       "  <th>Dep. Variable:</th>    <td>Tumor type</td>    <th>  No. Observations:  </th>   <td>   428</td>   \n",
       "</tr>\n",
       "<tr>\n",
       "  <th>Model:</th>               <td>Logit</td>      <th>  Df Residuals:      </th>   <td>   402</td>   \n",
       "</tr>\n",
       "<tr>\n",
       "  <th>Method:</th>               <td>MLE</td>       <th>  Df Model:          </th>   <td>    25</td>   \n",
       "</tr>\n",
       "<tr>\n",
       "  <th>Date:</th>          <td>Fri, 09 Oct 2020</td> <th>  Pseudo R-squ.:     </th>   <td> 1.000</td>   \n",
       "</tr>\n",
       "<tr>\n",
       "  <th>Time:</th>              <td>15:06:46</td>     <th>  Log-Likelihood:    </th> <td>-5.6873e-08</td>\n",
       "</tr>\n",
       "<tr>\n",
       "  <th>converged:</th>           <td>True</td>       <th>  LL-Null:           </th>  <td> -86.722</td>  \n",
       "</tr>\n",
       "<tr>\n",
       "  <th> </th>                      <td> </td>        <th>  LLR p-value:       </th>  <td>3.549e-24</td> \n",
       "</tr>\n",
       "</table>\n",
       "<table class=\"simpletable\">\n",
       "<tr>\n",
       "    <td></td>       <th>coef</th>     <th>std err</th>      <th>z</th>      <th>P>|z|</th>  <th>[0.025</th>    <th>0.975]</th>  \n",
       "</tr>\n",
       "<tr>\n",
       "  <th>const</th> <td> -537.3662</td> <td> 1.04e+11</td> <td>-5.18e-09</td> <td> 1.000</td> <td>-2.03e+11</td> <td> 2.03e+11</td>\n",
       "</tr>\n",
       "<tr>\n",
       "  <th>x1</th>    <td> 7722.3130</td> <td>      nan</td> <td>      nan</td> <td>   nan</td> <td>      nan</td> <td>      nan</td>\n",
       "</tr>\n",
       "<tr>\n",
       "  <th>x2</th>    <td> -856.3613</td> <td>      nan</td> <td>      nan</td> <td>   nan</td> <td>      nan</td> <td>      nan</td>\n",
       "</tr>\n",
       "<tr>\n",
       "  <th>x3</th>    <td>  486.3908</td> <td> 8.22e+11</td> <td> 5.92e-10</td> <td> 1.000</td> <td>-1.61e+12</td> <td> 1.61e+12</td>\n",
       "</tr>\n",
       "<tr>\n",
       "  <th>x4</th>    <td> 5017.9633</td> <td> 2.63e+12</td> <td> 1.91e-09</td> <td> 1.000</td> <td>-5.16e+12</td> <td> 5.16e+12</td>\n",
       "</tr>\n",
       "<tr>\n",
       "  <th>x5</th>    <td> -379.9183</td> <td>      nan</td> <td>      nan</td> <td>   nan</td> <td>      nan</td> <td>      nan</td>\n",
       "</tr>\n",
       "<tr>\n",
       "  <th>x6</th>    <td>-1957.6377</td> <td>      nan</td> <td>      nan</td> <td>   nan</td> <td>      nan</td> <td>      nan</td>\n",
       "</tr>\n",
       "<tr>\n",
       "  <th>x7</th>    <td>-2078.3947</td> <td>      nan</td> <td>      nan</td> <td>   nan</td> <td>      nan</td> <td>      nan</td>\n",
       "</tr>\n",
       "<tr>\n",
       "  <th>x8</th>    <td> 1070.2098</td> <td>      nan</td> <td>      nan</td> <td>   nan</td> <td>      nan</td> <td>      nan</td>\n",
       "</tr>\n",
       "<tr>\n",
       "  <th>x9</th>    <td>  816.2983</td> <td>      nan</td> <td>      nan</td> <td>   nan</td> <td>      nan</td> <td>      nan</td>\n",
       "</tr>\n",
       "<tr>\n",
       "  <th>x10</th>   <td>-2581.0585</td> <td> 7.45e+11</td> <td>-3.46e-09</td> <td> 1.000</td> <td>-1.46e+12</td> <td> 1.46e+12</td>\n",
       "</tr>\n",
       "<tr>\n",
       "  <th>x11</th>   <td>   87.3575</td> <td>      nan</td> <td>      nan</td> <td>   nan</td> <td>      nan</td> <td>      nan</td>\n",
       "</tr>\n",
       "<tr>\n",
       "  <th>x12</th>   <td>  329.1293</td> <td>      nan</td> <td>      nan</td> <td>   nan</td> <td>      nan</td> <td>      nan</td>\n",
       "</tr>\n",
       "<tr>\n",
       "  <th>x13</th>   <td> 1155.4231</td> <td>      nan</td> <td>      nan</td> <td>   nan</td> <td>      nan</td> <td>      nan</td>\n",
       "</tr>\n",
       "<tr>\n",
       "  <th>x14</th>   <td> -934.3749</td> <td> 3.34e+12</td> <td> -2.8e-10</td> <td> 1.000</td> <td>-6.54e+12</td> <td> 6.54e+12</td>\n",
       "</tr>\n",
       "<tr>\n",
       "  <th>x15</th>   <td>  451.9017</td> <td> 1.98e+12</td> <td> 2.28e-10</td> <td> 1.000</td> <td>-3.88e+12</td> <td> 3.88e+12</td>\n",
       "</tr>\n",
       "<tr>\n",
       "  <th>x16</th>   <td> -240.7694</td> <td> 2.52e+12</td> <td>-9.55e-11</td> <td> 1.000</td> <td>-4.94e+12</td> <td> 4.94e+12</td>\n",
       "</tr>\n",
       "<tr>\n",
       "  <th>x17</th>   <td>-2231.1126</td> <td> 3.54e+12</td> <td>-6.31e-10</td> <td> 1.000</td> <td>-6.93e+12</td> <td> 6.93e+12</td>\n",
       "</tr>\n",
       "<tr>\n",
       "  <th>x18</th>   <td> 1.018e+04</td> <td> 4.05e+12</td> <td> 2.51e-09</td> <td> 1.000</td> <td>-7.95e+12</td> <td> 7.95e+12</td>\n",
       "</tr>\n",
       "<tr>\n",
       "  <th>x19</th>   <td> 2966.2950</td> <td> 4.95e+12</td> <td> 5.99e-10</td> <td> 1.000</td> <td>-9.71e+12</td> <td> 9.71e+12</td>\n",
       "</tr>\n",
       "<tr>\n",
       "  <th>x20</th>   <td> 1972.1214</td> <td>      nan</td> <td>      nan</td> <td>   nan</td> <td>      nan</td> <td>      nan</td>\n",
       "</tr>\n",
       "<tr>\n",
       "  <th>x21</th>   <td> 1529.2370</td> <td>      nan</td> <td>      nan</td> <td>   nan</td> <td>      nan</td> <td>      nan</td>\n",
       "</tr>\n",
       "<tr>\n",
       "  <th>x22</th>   <td>  479.6856</td> <td> 1.61e+12</td> <td> 2.98e-10</td> <td> 1.000</td> <td>-3.16e+12</td> <td> 3.16e+12</td>\n",
       "</tr>\n",
       "<tr>\n",
       "  <th>x23</th>   <td>-2324.3900</td> <td>      nan</td> <td>      nan</td> <td>   nan</td> <td>      nan</td> <td>      nan</td>\n",
       "</tr>\n",
       "<tr>\n",
       "  <th>x24</th>   <td>-3094.1954</td> <td> 8.83e+12</td> <td> -3.5e-10</td> <td> 1.000</td> <td>-1.73e+13</td> <td> 1.73e+13</td>\n",
       "</tr>\n",
       "<tr>\n",
       "  <th>x25</th>   <td> 1967.2047</td> <td>    1e+13</td> <td> 1.96e-10</td> <td> 1.000</td> <td>-1.96e+13</td> <td> 1.96e+13</td>\n",
       "</tr>\n",
       "</table><br/><br/>Complete Separation: The results show that there iscomplete separation.<br/>In this case the Maximum Likelihood Estimator does not exist and the parameters<br/>are not identified."
      ],
      "text/plain": [
       "<class 'statsmodels.iolib.summary.Summary'>\n",
       "\"\"\"\n",
       "                           Logit Regression Results                           \n",
       "==============================================================================\n",
       "Dep. Variable:             Tumor type   No. Observations:                  428\n",
       "Model:                          Logit   Df Residuals:                      402\n",
       "Method:                           MLE   Df Model:                           25\n",
       "Date:                Fri, 09 Oct 2020   Pseudo R-squ.:                   1.000\n",
       "Time:                        15:06:46   Log-Likelihood:            -5.6873e-08\n",
       "converged:                       True   LL-Null:                       -86.722\n",
       "                                        LLR p-value:                 3.549e-24\n",
       "==============================================================================\n",
       "                 coef    std err          z      P>|z|      [0.025      0.975]\n",
       "------------------------------------------------------------------------------\n",
       "const       -537.3662   1.04e+11  -5.18e-09      1.000   -2.03e+11    2.03e+11\n",
       "x1          7722.3130        nan        nan        nan         nan         nan\n",
       "x2          -856.3613        nan        nan        nan         nan         nan\n",
       "x3           486.3908   8.22e+11   5.92e-10      1.000   -1.61e+12    1.61e+12\n",
       "x4          5017.9633   2.63e+12   1.91e-09      1.000   -5.16e+12    5.16e+12\n",
       "x5          -379.9183        nan        nan        nan         nan         nan\n",
       "x6         -1957.6377        nan        nan        nan         nan         nan\n",
       "x7         -2078.3947        nan        nan        nan         nan         nan\n",
       "x8          1070.2098        nan        nan        nan         nan         nan\n",
       "x9           816.2983        nan        nan        nan         nan         nan\n",
       "x10        -2581.0585   7.45e+11  -3.46e-09      1.000   -1.46e+12    1.46e+12\n",
       "x11           87.3575        nan        nan        nan         nan         nan\n",
       "x12          329.1293        nan        nan        nan         nan         nan\n",
       "x13         1155.4231        nan        nan        nan         nan         nan\n",
       "x14         -934.3749   3.34e+12   -2.8e-10      1.000   -6.54e+12    6.54e+12\n",
       "x15          451.9017   1.98e+12   2.28e-10      1.000   -3.88e+12    3.88e+12\n",
       "x16         -240.7694   2.52e+12  -9.55e-11      1.000   -4.94e+12    4.94e+12\n",
       "x17        -2231.1126   3.54e+12  -6.31e-10      1.000   -6.93e+12    6.93e+12\n",
       "x18         1.018e+04   4.05e+12   2.51e-09      1.000   -7.95e+12    7.95e+12\n",
       "x19         2966.2950   4.95e+12   5.99e-10      1.000   -9.71e+12    9.71e+12\n",
       "x20         1972.1214        nan        nan        nan         nan         nan\n",
       "x21         1529.2370        nan        nan        nan         nan         nan\n",
       "x22          479.6856   1.61e+12   2.98e-10      1.000   -3.16e+12    3.16e+12\n",
       "x23        -2324.3900        nan        nan        nan         nan         nan\n",
       "x24        -3094.1954   8.83e+12   -3.5e-10      1.000   -1.73e+13    1.73e+13\n",
       "x25         1967.2047      1e+13   1.96e-10      1.000   -1.96e+13    1.96e+13\n",
       "==============================================================================\n",
       "\n",
       "Complete Separation: The results show that there iscomplete separation.\n",
       "In this case the Maximum Likelihood Estimator does not exist and the parameters\n",
       "are not identified.\n",
       "\"\"\""
      ]
     },
     "execution_count": 15,
     "metadata": {},
     "output_type": "execute_result"
    }
   ],
   "source": [
    "logreg_sm_mm.summary()"
   ]
  },
  {
   "cell_type": "markdown",
   "metadata": {},
   "source": [
    "I had numerous issues with this task.\n",
    "Statsmodels Logit.fit() throws an error, that the X matrix is singular. Instead I used fit_regularized(), which uses some penalty to reduce the magnitude of the model weights.\n",
    "With such fit, the model summary showed us p = 1 and p=nan at other times. This is nonsense, since it would mean,  that heightened level of the concerned proteins is present in 100% of the cancerous samples."
   ]
  },
  {
   "cell_type": "code",
   "execution_count": 16,
   "metadata": {},
   "outputs": [
    {
     "name": "stdout",
     "output_type": "stream",
     "text": [
      "Optimization terminated successfully.    (Exit mode 0)\n",
      "            Current function value: 0.022885510946718906\n",
      "            Iterations: 388\n",
      "            Function evaluations: 388\n",
      "            Gradient evaluations: 388\n",
      "Optimization terminated successfully.    (Exit mode 0)\n",
      "            Current function value: 0.022883459541854854\n",
      "            Iterations: 266\n",
      "            Function evaluations: 275\n",
      "            Gradient evaluations: 266\n"
     ]
    }
   ],
   "source": [
    "from sklearn.model_selection import train_test_split\n",
    "data4_train, data4_test, y4_train, y4_test = train_test_split(data4, y4, train_size=0.75)\n",
    "#I've split the data into 70% training, 30% to test with. This didnt give me the singular matrix error.\n",
    "\n",
    "x4_train_std = std_scaler.fit_transform(data4_train)\n",
    "x4_test_std = std_scaler.transform(data4_test)\n",
    "x4_train_mm = mm_scaler.fit_transform(data4_train)\n",
    "x4_test_mm = mm_scaler.transform(data4_test)\n",
    "\n",
    "x_statmet_mm = sm.add_constant(x4_train_mm)\n",
    "x_statmet_std = sm.add_constant(x4_train_std)\n",
    "\n",
    "logreg_sm_mm  = Logit(y4_train, x_statmet_mm).fit_regularized()\n",
    "logreg_sm_std = Logit(y4_train, x_statmet_std).fit_regularized()"
   ]
  },
  {
   "cell_type": "code",
   "execution_count": 17,
   "metadata": {},
   "outputs": [
    {
     "name": "stdout",
     "output_type": "stream",
     "text": [
      "                           Logit Regression Results                           \n",
      "==============================================================================\n",
      "Dep. Variable:             Tumor type   No. Observations:                  642\n",
      "Model:                          Logit   Df Residuals:                      616\n",
      "Method:                           MLE   Df Model:                           25\n",
      "Date:                Fri, 09 Oct 2020   Pseudo R-squ.:                  0.8788\n",
      "Time:                        15:06:53   Log-Likelihood:                -14.692\n",
      "converged:                       True   LL-Null:                       -121.19\n",
      "                                        LLR p-value:                 9.465e-32\n",
      "==============================================================================\n",
      "                 coef    std err          z      P>|z|      [0.025      0.975]\n",
      "------------------------------------------------------------------------------\n",
      "const         -6.9827      3.185     -2.192      0.028     -13.225      -0.740\n",
      "x1           215.7636    152.762      1.412      0.158     -83.644     515.172\n",
      "x2             3.8485      5.985      0.643      0.520      -7.883      15.580\n",
      "x3             5.4732      6.097      0.898      0.369      -6.476      17.423\n",
      "x4            50.3269     19.716      2.553      0.011      11.683      88.970\n",
      "x5            -4.1037      9.665     -0.425      0.671     -23.046      14.839\n",
      "x6            39.5419     47.713      0.829      0.407     -53.974     133.058\n",
      "x7           -22.7770     14.633     -1.557      0.120     -51.457       5.903\n",
      "x8            -5.5248      9.586     -0.576      0.564     -24.314      13.264\n",
      "x9            12.1847     11.016      1.106      0.269      -9.406      33.775\n",
      "x10          -12.2428      9.614     -1.273      0.203     -31.086       6.601\n",
      "x11            4.2698      6.100      0.700      0.484      -7.685      16.225\n",
      "x12            8.0205      5.329      1.505      0.132      -2.424      18.465\n",
      "x13            5.5048      3.990      1.380      0.168      -2.316      13.326\n",
      "x14           -2.8252     19.791     -0.143      0.886     -41.615      35.964\n",
      "x15           -1.5428      5.673     -0.272      0.786     -12.662       9.576\n",
      "x16           -0.9919      6.183     -0.160      0.873     -13.111      11.127\n",
      "x17          -91.6190     90.236     -1.015      0.310    -268.478      85.240\n",
      "x18           96.9533     53.291      1.819      0.069      -7.494     201.401\n",
      "x19            7.6938     15.246      0.505      0.614     -22.189      37.576\n",
      "x20            3.1305      6.028      0.519      0.604      -8.684      14.945\n",
      "x21           11.7113     10.190      1.149      0.250      -8.262      31.684\n",
      "x22           -6.8141      6.705     -1.016      0.309     -19.956       6.327\n",
      "x23            9.1793      6.137      1.496      0.135      -2.849      21.207\n",
      "x24           -8.6822     31.646     -0.274      0.784     -70.707      53.343\n",
      "x25            2.8658     19.961      0.144      0.886     -36.256      41.988\n",
      "==============================================================================\n",
      "\n",
      "Possibly complete quasi-separation: A fraction 0.45 of observations can be\n",
      "perfectly predicted. This might indicate that there is complete\n",
      "quasi-separation. In this case some parameters will not be identified.                            Logit Regression Results                           \n",
      "==============================================================================\n",
      "Dep. Variable:             Tumor type   No. Observations:                  642\n",
      "Model:                          Logit   Df Residuals:                      616\n",
      "Method:                           MLE   Df Model:                           25\n",
      "Date:                Fri, 09 Oct 2020   Pseudo R-squ.:                  0.8788\n",
      "Time:                        15:06:53   Log-Likelihood:                -14.691\n",
      "converged:                       True   LL-Null:                       -121.19\n",
      "                                        LLR p-value:                 9.454e-32\n",
      "==============================================================================\n",
      "                 coef    std err          z      P>|z|      [0.025      0.975]\n",
      "------------------------------------------------------------------------------\n",
      "const         -5.6065      3.099     -1.809      0.070     -11.680       0.467\n",
      "x1            25.2173     17.900      1.409      0.159      -9.866      60.300\n",
      "x2             0.4810      0.755      0.637      0.524      -0.998       1.960\n",
      "x3             0.6412      0.718      0.893      0.372      -0.766       2.048\n",
      "x4             2.1390      0.836      2.559      0.011       0.501       3.777\n",
      "x5            -0.4098      0.982     -0.417      0.677      -2.335       1.516\n",
      "x6             1.6372      2.178      0.752      0.452      -2.632       5.906\n",
      "x7            -3.3188      2.137     -1.553      0.120      -7.507       0.869\n",
      "x8            -0.6582      1.128     -0.583      0.560      -2.870       1.553\n",
      "x9             0.8295      0.746      1.112      0.266      -0.633       2.292\n",
      "x10           -1.5881      1.247     -1.273      0.203      -4.033       0.856\n",
      "x11            0.2598      0.365      0.712      0.476      -0.455       0.975\n",
      "x12            1.3947      0.918      1.519      0.129      -0.404       3.194\n",
      "x13            0.6549      0.475      1.380      0.168      -0.275       1.585\n",
      "x14           -0.2082      1.303     -0.160      0.873      -2.761       2.345\n",
      "x15           -0.1934      0.734     -0.264      0.792      -1.631       1.244\n",
      "x16           -0.1140      0.765     -0.149      0.882      -1.614       1.386\n",
      "x17           -6.3740      6.123     -1.041      0.298     -18.376       5.628\n",
      "x18            4.8162      2.640      1.824      0.068      -0.359       9.991\n",
      "x19            0.6034      1.230      0.491      0.624      -1.807       3.013\n",
      "x20            0.2531      0.478      0.530      0.596      -0.683       1.189\n",
      "x21            0.8107      0.708      1.144      0.252      -0.578       2.199\n",
      "x22           -1.0291      1.009     -1.020      0.308      -3.007       0.949\n",
      "x23            1.2861      0.858      1.500      0.134      -0.395       2.967\n",
      "x24           -0.6219      2.343     -0.265      0.791      -5.215       3.971\n",
      "x25            0.2362      1.449      0.163      0.870      -2.604       3.076\n",
      "==============================================================================\n",
      "\n",
      "Possibly complete quasi-separation: A fraction 0.45 of observations can be\n",
      "perfectly predicted. This might indicate that there is complete\n",
      "quasi-separation. In this case some parameters will not be identified.\n"
     ]
    }
   ],
   "source": [
    "print(logreg_sm_mm.summary(),logreg_sm_std.summary())\n"
   ]
  },
  {
   "cell_type": "code",
   "execution_count": 18,
   "metadata": {},
   "outputs": [
    {
     "name": "stdout",
     "output_type": "stream",
     "text": [
      "x24    0.783812\n",
      "x15    0.785670\n",
      "x16    0.872548\n",
      "x25    0.885840\n",
      "x14    0.886484\n",
      "dtype: float64 \n",
      "\n",
      " x24    0.790734\n",
      "x15    0.792026\n",
      "x25    0.870491\n",
      "x14    0.872979\n",
      "x16    0.881588\n",
      "dtype: float64\n"
     ]
    }
   ],
   "source": [
    "#Show 5 largest p values with the according feature\n",
    "print(logreg_sm_mm.pvalues.sort_values()[-5:],\"\\n\\n\", logreg_sm_std.pvalues.sort_values()[-5:])\n"
   ]
  },
  {
   "cell_type": "markdown",
   "metadata": {},
   "source": [
    "We can see that with both normalization methods, we get quite similar results: "
   ]
  },
  {
   "cell_type": "markdown",
   "metadata": {},
   "source": [
    "# 5. Multiclass classification\n",
    " - Again, using every second datapoint train a logistic regression (sklearn API) to predict the tumor type. It is a multiclass classification problem.\n",
    " - Generate prediction for the rest of the dataset and show the confusion matrix for the predictions!\n",
    " - Plot the ROC curves for the different cancer types on the same plot! \n",
    " - Intepret your results. Which cancer type can be predicted the most reliably?"
   ]
  },
  {
   "cell_type": "code",
   "execution_count": 19,
   "metadata": {},
   "outputs": [],
   "source": [
    "#Numerical encoding \n",
    "my_dict = {}\n",
    "tumor_types = data[\"Tumor type\"].unique()\n",
    "for i in range(len(tumor_types)):\n",
    "    my_dict[tumor_types[i]] = i\n",
    "y5 = data[\"Tumor type\"].map(lambda x: my_dict[x])\n",
    "\n",
    "#Train test split\n",
    "y5_train = y5[::2]\n",
    "y5_test = y5[1::2]"
   ]
  },
  {
   "cell_type": "code",
   "execution_count": 20,
   "metadata": {},
   "outputs": [
    {
     "data": {
      "text/plain": [
       "LogisticRegression()"
      ]
     },
     "execution_count": 20,
     "metadata": {},
     "output_type": "execute_result"
    }
   ],
   "source": [
    "logreg5_std = LogisticRegression()\n",
    "logreg5_mm = LogisticRegression()\n",
    "\n",
    "logreg5_std.fit(x_train_std,y5_train)\n",
    "logreg5_mm.fit(x_train_mm,y5_train)"
   ]
  },
  {
   "cell_type": "code",
   "execution_count": 21,
   "metadata": {},
   "outputs": [
    {
     "ename": "ValueError",
     "evalue": "Expected 2D array, got 1D array instead:\narray=[0 0 0 0 0 0 0 0 0 0 0 0 0 0 0 0 0 0 0 0 0 0 0 0 0 0 0 0 0 0 0 0 0 0 0 0 0\n 0 1 1 1 1 1 1 1 1 1 1 0 0 0 0 0 0 0 0 0 0 2 2 2 2 2 2 2 2 2 2 2 2 2 4 6 6\n 0 7 7 7 0 0 7 0 0 0 7 0 7 5 7 7 0 0 7 0 7 5 7 0 7 7 0 0 0 7 7 0 0 7 0 0 7\n 0 7 0 6 0 6 5 7 7 6 0 0 0 7 0 6 0 0 0 0 6 0 1 0 1 2 2 0 0 7 6 7 0 1 0 0 0\n 0 0 7 2 2 5 1 0 2 6 4 2 1 1 2 2 1 0 0 0 2 0 0 0 6 0 2 0 2 7 0 0 1 1 0 1 1\n 1 5 2 6 0 1 2 2 0 0 1 1 2 1 3 2 1 1 6 0 0 1 1 0 6 1 6 6 1 0 0 1 1 2 2 1 1\n 0 0 0 2 0 0 0 0 0 5 2 0 5 2 0 2 0 2 2 2 6 0 0 0 0 2 5 2 2 0 5 2 2 1 1 1 1\n 0 2 0 0 2 7 3 0 0 0 0 0 0 1 7 4 0 2 1 7 1 0 0 0 0 2 0 2 2 0 2 2 0 0 5 0 2\n 2 0 2 0 0 0 2 2 0 0 0 0 0 2 0 2 0 2 2 0 0 6 2 0 0 6 0 0 0 0 0 2 6 5 5 2 6\n 1 2 0 0 1 0 0 1 1 0 1 1 4 1 1 2 0 0 2 2 0 0 2 4 0 0 0 3 7 3 7 0 0 0 5 5 2\n 2 0 0 0 0 0 6 0 6 0 0 0 0 0 2 2 2 2 2 4 6 3 0 0 4 0 6 2 0 5 0 2 2 2 0 0 2\n 2 7 6 0 5 0 2 5 6 6 5 2 2 2 2 2 2 2 2 3 7 1 2 2 5 5 5 2 2 2 5 2 7 7 4 5 5\n 8 8 8 8 8 8 8 8 8 8 8 8 8 8 8 8 8 8 8 8 8 8 8 8 8 8 8 8 8 8 8 8 8 8 8 8 8\n 8 8 8 8 8 8 8 8 8 8 8 8 8 8 8 8 8 8 8 8 8 8 8 8 8 8 8 8 8 8 8 8 8 8 8 8 8\n 8 8 8 8 8 8 8 8 8 8 8 8 8 8 8 8 8 3 8 8 8 8 8 8 8 8 8 8 8 8 8 8 8 8 8 8 8\n 8 8 8 8 8 8 8 8 8 8 8 8 8 8 8 8 8 8 8 8 8 8 8 8 8 8 8 8 8 8 8 8 8 8 8 8 8\n 8 8 8 8 8 8 8 8 8 8 8 8 8 8 8 8 8 8 8 8 8 8 8 8 8 8 8 8 8 8 8 8 8 8 8 8 8\n 8 8 8 8 8 8 8 8 8 8 8 8 8 8 8 8 8 8 8 8 8 8 8 8 8 8 8 8 8 8 8 8 8 8 8 8 8\n 8 8 8 8 8 8 8 8 8 8 8 8 8 8 8 8 8 8 8 8 8 8 8 8 8 8 8 8 8 8 8 8 8 8 8 8 8\n 8 8 8 8 8 8 8 8 8 8 8 8 8 8 8 8 8 8 8 8 8 8 8 8 8 8 8 8 8 8 8 8 8 8 8 8 8\n 8 8 8 8 8 8 8 8 8 8 8 8 8 8 8 8 8 8 8 8 8 8 8 8 8 8 8 8 8 8 8 8 8 8 8 8 8\n 8 8 8 8 8 8 8 8 8 8 8 8 8 8 8 8 8 8 8 8 8 8 8 8 8 8 8 8 8 8 8 8 8 8 8 8 8\n 8 8 8 8 8 8 8 8 8 8 8 8 8 8 8 8 8 8 8 8 8 8 8 8 8 8 8 8 8 8 8 8 8 8 8 8 8\n 3 3 3 3 3 3 3 3 3 3 3 3 3 3 3 3 3 3 3 3 3 3 3 3 3 3 3 3 3 3 3 3 3 3 3 3 4\n 4 4 4 4 4 4 4 4 4 4 4 4 4 4 4 4 4 4 4 4].\nReshape your data either using array.reshape(-1, 1) if your data has a single feature or array.reshape(1, -1) if it contains a single sample.",
     "output_type": "error",
     "traceback": [
      "\u001b[0;31m---------------------------------------------------------------------------\u001b[0m",
      "\u001b[0;31mValueError\u001b[0m                                Traceback (most recent call last)",
      "\u001b[0;32m<ipython-input-21-4ff203b33bb4>\u001b[0m in \u001b[0;36m<module>\u001b[0;34m\u001b[0m\n\u001b[1;32m      1\u001b[0m \u001b[0;32mfrom\u001b[0m \u001b[0msklearn\u001b[0m\u001b[0;34m.\u001b[0m\u001b[0mmulticlass\u001b[0m \u001b[0;32mimport\u001b[0m \u001b[0mOneVsRestClassifier\u001b[0m\u001b[0;34m\u001b[0m\u001b[0;34m\u001b[0m\u001b[0m\n\u001b[1;32m      2\u001b[0m \u001b[0mlogreg6\u001b[0m \u001b[0;34m=\u001b[0m \u001b[0mOneVsRestClassifier\u001b[0m\u001b[0;34m(\u001b[0m\u001b[0mLogisticRegression\u001b[0m\u001b[0;34m(\u001b[0m\u001b[0;34m)\u001b[0m\u001b[0;34m)\u001b[0m\u001b[0;34m.\u001b[0m\u001b[0mfit\u001b[0m\u001b[0;34m(\u001b[0m\u001b[0mx_train_std\u001b[0m\u001b[0;34m,\u001b[0m\u001b[0my5_train\u001b[0m\u001b[0;34m.\u001b[0m\u001b[0mto_numpy\u001b[0m\u001b[0;34m(\u001b[0m\u001b[0;34m)\u001b[0m\u001b[0;34m.\u001b[0m\u001b[0mreshape\u001b[0m\u001b[0;34m(\u001b[0m\u001b[0;34m-\u001b[0m\u001b[0;36m1\u001b[0m\u001b[0;34m,\u001b[0m\u001b[0;36m1\u001b[0m\u001b[0;34m)\u001b[0m\u001b[0;34m)\u001b[0m\u001b[0;34m\u001b[0m\u001b[0;34m\u001b[0m\u001b[0m\n\u001b[0;32m----> 3\u001b[0;31m \u001b[0mlogreg6\u001b[0m\u001b[0;34m.\u001b[0m\u001b[0mpredict\u001b[0m\u001b[0;34m(\u001b[0m\u001b[0my5_test\u001b[0m\u001b[0;34m)\u001b[0m\u001b[0;34m\u001b[0m\u001b[0;34m\u001b[0m\u001b[0m\n\u001b[0m",
      "\u001b[0;32m~/.local/lib/python3.6/site-packages/sklearn/multiclass.py\u001b[0m in \u001b[0;36mpredict\u001b[0;34m(self, X)\u001b[0m\n\u001b[1;32m    324\u001b[0m             \u001b[0margmaxima\u001b[0m \u001b[0;34m=\u001b[0m \u001b[0mnp\u001b[0m\u001b[0;34m.\u001b[0m\u001b[0mzeros\u001b[0m\u001b[0;34m(\u001b[0m\u001b[0mn_samples\u001b[0m\u001b[0;34m,\u001b[0m \u001b[0mdtype\u001b[0m\u001b[0;34m=\u001b[0m\u001b[0mint\u001b[0m\u001b[0;34m)\u001b[0m\u001b[0;34m\u001b[0m\u001b[0;34m\u001b[0m\u001b[0m\n\u001b[1;32m    325\u001b[0m             \u001b[0;32mfor\u001b[0m \u001b[0mi\u001b[0m\u001b[0;34m,\u001b[0m \u001b[0me\u001b[0m \u001b[0;32min\u001b[0m \u001b[0menumerate\u001b[0m\u001b[0;34m(\u001b[0m\u001b[0mself\u001b[0m\u001b[0;34m.\u001b[0m\u001b[0mestimators_\u001b[0m\u001b[0;34m)\u001b[0m\u001b[0;34m:\u001b[0m\u001b[0;34m\u001b[0m\u001b[0;34m\u001b[0m\u001b[0m\n\u001b[0;32m--> 326\u001b[0;31m                 \u001b[0mpred\u001b[0m \u001b[0;34m=\u001b[0m \u001b[0m_predict_binary\u001b[0m\u001b[0;34m(\u001b[0m\u001b[0me\u001b[0m\u001b[0;34m,\u001b[0m \u001b[0mX\u001b[0m\u001b[0;34m)\u001b[0m\u001b[0;34m\u001b[0m\u001b[0;34m\u001b[0m\u001b[0m\n\u001b[0m\u001b[1;32m    327\u001b[0m                 \u001b[0mnp\u001b[0m\u001b[0;34m.\u001b[0m\u001b[0mmaximum\u001b[0m\u001b[0;34m(\u001b[0m\u001b[0mmaxima\u001b[0m\u001b[0;34m,\u001b[0m \u001b[0mpred\u001b[0m\u001b[0;34m,\u001b[0m \u001b[0mout\u001b[0m\u001b[0;34m=\u001b[0m\u001b[0mmaxima\u001b[0m\u001b[0;34m)\u001b[0m\u001b[0;34m\u001b[0m\u001b[0;34m\u001b[0m\u001b[0m\n\u001b[1;32m    328\u001b[0m                 \u001b[0margmaxima\u001b[0m\u001b[0;34m[\u001b[0m\u001b[0mmaxima\u001b[0m \u001b[0;34m==\u001b[0m \u001b[0mpred\u001b[0m\u001b[0;34m]\u001b[0m \u001b[0;34m=\u001b[0m \u001b[0mi\u001b[0m\u001b[0;34m\u001b[0m\u001b[0;34m\u001b[0m\u001b[0m\n",
      "\u001b[0;32m~/.local/lib/python3.6/site-packages/sklearn/multiclass.py\u001b[0m in \u001b[0;36m_predict_binary\u001b[0;34m(estimator, X)\u001b[0m\n\u001b[1;32m     94\u001b[0m         \u001b[0;32mreturn\u001b[0m \u001b[0mestimator\u001b[0m\u001b[0;34m.\u001b[0m\u001b[0mpredict\u001b[0m\u001b[0;34m(\u001b[0m\u001b[0mX\u001b[0m\u001b[0;34m)\u001b[0m\u001b[0;34m\u001b[0m\u001b[0;34m\u001b[0m\u001b[0m\n\u001b[1;32m     95\u001b[0m     \u001b[0;32mtry\u001b[0m\u001b[0;34m:\u001b[0m\u001b[0;34m\u001b[0m\u001b[0;34m\u001b[0m\u001b[0m\n\u001b[0;32m---> 96\u001b[0;31m         \u001b[0mscore\u001b[0m \u001b[0;34m=\u001b[0m \u001b[0mnp\u001b[0m\u001b[0;34m.\u001b[0m\u001b[0mravel\u001b[0m\u001b[0;34m(\u001b[0m\u001b[0mestimator\u001b[0m\u001b[0;34m.\u001b[0m\u001b[0mdecision_function\u001b[0m\u001b[0;34m(\u001b[0m\u001b[0mX\u001b[0m\u001b[0;34m)\u001b[0m\u001b[0;34m)\u001b[0m\u001b[0;34m\u001b[0m\u001b[0;34m\u001b[0m\u001b[0m\n\u001b[0m\u001b[1;32m     97\u001b[0m     \u001b[0;32mexcept\u001b[0m \u001b[0;34m(\u001b[0m\u001b[0mAttributeError\u001b[0m\u001b[0;34m,\u001b[0m \u001b[0mNotImplementedError\u001b[0m\u001b[0;34m)\u001b[0m\u001b[0;34m:\u001b[0m\u001b[0;34m\u001b[0m\u001b[0;34m\u001b[0m\u001b[0m\n\u001b[1;32m     98\u001b[0m         \u001b[0;31m# probabilities of the positive class\u001b[0m\u001b[0;34m\u001b[0m\u001b[0;34m\u001b[0m\u001b[0;34m\u001b[0m\u001b[0m\n",
      "\u001b[0;32m~/.local/lib/python3.6/site-packages/sklearn/linear_model/_base.py\u001b[0m in \u001b[0;36mdecision_function\u001b[0;34m(self, X)\u001b[0m\n\u001b[1;32m    280\u001b[0m         \u001b[0mcheck_is_fitted\u001b[0m\u001b[0;34m(\u001b[0m\u001b[0mself\u001b[0m\u001b[0;34m)\u001b[0m\u001b[0;34m\u001b[0m\u001b[0;34m\u001b[0m\u001b[0m\n\u001b[1;32m    281\u001b[0m \u001b[0;34m\u001b[0m\u001b[0m\n\u001b[0;32m--> 282\u001b[0;31m         \u001b[0mX\u001b[0m \u001b[0;34m=\u001b[0m \u001b[0mcheck_array\u001b[0m\u001b[0;34m(\u001b[0m\u001b[0mX\u001b[0m\u001b[0;34m,\u001b[0m \u001b[0maccept_sparse\u001b[0m\u001b[0;34m=\u001b[0m\u001b[0;34m'csr'\u001b[0m\u001b[0;34m)\u001b[0m\u001b[0;34m\u001b[0m\u001b[0;34m\u001b[0m\u001b[0m\n\u001b[0m\u001b[1;32m    283\u001b[0m \u001b[0;34m\u001b[0m\u001b[0m\n\u001b[1;32m    284\u001b[0m         \u001b[0mn_features\u001b[0m \u001b[0;34m=\u001b[0m \u001b[0mself\u001b[0m\u001b[0;34m.\u001b[0m\u001b[0mcoef_\u001b[0m\u001b[0;34m.\u001b[0m\u001b[0mshape\u001b[0m\u001b[0;34m[\u001b[0m\u001b[0;36m1\u001b[0m\u001b[0;34m]\u001b[0m\u001b[0;34m\u001b[0m\u001b[0;34m\u001b[0m\u001b[0m\n",
      "\u001b[0;32m~/.local/lib/python3.6/site-packages/sklearn/utils/validation.py\u001b[0m in \u001b[0;36minner_f\u001b[0;34m(*args, **kwargs)\u001b[0m\n\u001b[1;32m     70\u001b[0m                           FutureWarning)\n\u001b[1;32m     71\u001b[0m         \u001b[0mkwargs\u001b[0m\u001b[0;34m.\u001b[0m\u001b[0mupdate\u001b[0m\u001b[0;34m(\u001b[0m\u001b[0;34m{\u001b[0m\u001b[0mk\u001b[0m\u001b[0;34m:\u001b[0m \u001b[0marg\u001b[0m \u001b[0;32mfor\u001b[0m \u001b[0mk\u001b[0m\u001b[0;34m,\u001b[0m \u001b[0marg\u001b[0m \u001b[0;32min\u001b[0m \u001b[0mzip\u001b[0m\u001b[0;34m(\u001b[0m\u001b[0msig\u001b[0m\u001b[0;34m.\u001b[0m\u001b[0mparameters\u001b[0m\u001b[0;34m,\u001b[0m \u001b[0margs\u001b[0m\u001b[0;34m)\u001b[0m\u001b[0;34m}\u001b[0m\u001b[0;34m)\u001b[0m\u001b[0;34m\u001b[0m\u001b[0;34m\u001b[0m\u001b[0m\n\u001b[0;32m---> 72\u001b[0;31m         \u001b[0;32mreturn\u001b[0m \u001b[0mf\u001b[0m\u001b[0;34m(\u001b[0m\u001b[0;34m**\u001b[0m\u001b[0mkwargs\u001b[0m\u001b[0;34m)\u001b[0m\u001b[0;34m\u001b[0m\u001b[0;34m\u001b[0m\u001b[0m\n\u001b[0m\u001b[1;32m     73\u001b[0m     \u001b[0;32mreturn\u001b[0m \u001b[0minner_f\u001b[0m\u001b[0;34m\u001b[0m\u001b[0;34m\u001b[0m\u001b[0m\n\u001b[1;32m     74\u001b[0m \u001b[0;34m\u001b[0m\u001b[0m\n",
      "\u001b[0;32m~/.local/lib/python3.6/site-packages/sklearn/utils/validation.py\u001b[0m in \u001b[0;36mcheck_array\u001b[0;34m(array, accept_sparse, accept_large_sparse, dtype, order, copy, force_all_finite, ensure_2d, allow_nd, ensure_min_samples, ensure_min_features, estimator)\u001b[0m\n\u001b[1;32m    621\u001b[0m                     \u001b[0;34m\"Reshape your data either using array.reshape(-1, 1) if \"\u001b[0m\u001b[0;34m\u001b[0m\u001b[0;34m\u001b[0m\u001b[0m\n\u001b[1;32m    622\u001b[0m                     \u001b[0;34m\"your data has a single feature or array.reshape(1, -1) \"\u001b[0m\u001b[0;34m\u001b[0m\u001b[0;34m\u001b[0m\u001b[0m\n\u001b[0;32m--> 623\u001b[0;31m                     \"if it contains a single sample.\".format(array))\n\u001b[0m\u001b[1;32m    624\u001b[0m \u001b[0;34m\u001b[0m\u001b[0m\n\u001b[1;32m    625\u001b[0m         \u001b[0;31m# in the future np.flexible dtypes will be handled like object dtypes\u001b[0m\u001b[0;34m\u001b[0m\u001b[0;34m\u001b[0m\u001b[0;34m\u001b[0m\u001b[0m\n",
      "\u001b[0;31mValueError\u001b[0m: Expected 2D array, got 1D array instead:\narray=[0 0 0 0 0 0 0 0 0 0 0 0 0 0 0 0 0 0 0 0 0 0 0 0 0 0 0 0 0 0 0 0 0 0 0 0 0\n 0 1 1 1 1 1 1 1 1 1 1 0 0 0 0 0 0 0 0 0 0 2 2 2 2 2 2 2 2 2 2 2 2 2 4 6 6\n 0 7 7 7 0 0 7 0 0 0 7 0 7 5 7 7 0 0 7 0 7 5 7 0 7 7 0 0 0 7 7 0 0 7 0 0 7\n 0 7 0 6 0 6 5 7 7 6 0 0 0 7 0 6 0 0 0 0 6 0 1 0 1 2 2 0 0 7 6 7 0 1 0 0 0\n 0 0 7 2 2 5 1 0 2 6 4 2 1 1 2 2 1 0 0 0 2 0 0 0 6 0 2 0 2 7 0 0 1 1 0 1 1\n 1 5 2 6 0 1 2 2 0 0 1 1 2 1 3 2 1 1 6 0 0 1 1 0 6 1 6 6 1 0 0 1 1 2 2 1 1\n 0 0 0 2 0 0 0 0 0 5 2 0 5 2 0 2 0 2 2 2 6 0 0 0 0 2 5 2 2 0 5 2 2 1 1 1 1\n 0 2 0 0 2 7 3 0 0 0 0 0 0 1 7 4 0 2 1 7 1 0 0 0 0 2 0 2 2 0 2 2 0 0 5 0 2\n 2 0 2 0 0 0 2 2 0 0 0 0 0 2 0 2 0 2 2 0 0 6 2 0 0 6 0 0 0 0 0 2 6 5 5 2 6\n 1 2 0 0 1 0 0 1 1 0 1 1 4 1 1 2 0 0 2 2 0 0 2 4 0 0 0 3 7 3 7 0 0 0 5 5 2\n 2 0 0 0 0 0 6 0 6 0 0 0 0 0 2 2 2 2 2 4 6 3 0 0 4 0 6 2 0 5 0 2 2 2 0 0 2\n 2 7 6 0 5 0 2 5 6 6 5 2 2 2 2 2 2 2 2 3 7 1 2 2 5 5 5 2 2 2 5 2 7 7 4 5 5\n 8 8 8 8 8 8 8 8 8 8 8 8 8 8 8 8 8 8 8 8 8 8 8 8 8 8 8 8 8 8 8 8 8 8 8 8 8\n 8 8 8 8 8 8 8 8 8 8 8 8 8 8 8 8 8 8 8 8 8 8 8 8 8 8 8 8 8 8 8 8 8 8 8 8 8\n 8 8 8 8 8 8 8 8 8 8 8 8 8 8 8 8 8 3 8 8 8 8 8 8 8 8 8 8 8 8 8 8 8 8 8 8 8\n 8 8 8 8 8 8 8 8 8 8 8 8 8 8 8 8 8 8 8 8 8 8 8 8 8 8 8 8 8 8 8 8 8 8 8 8 8\n 8 8 8 8 8 8 8 8 8 8 8 8 8 8 8 8 8 8 8 8 8 8 8 8 8 8 8 8 8 8 8 8 8 8 8 8 8\n 8 8 8 8 8 8 8 8 8 8 8 8 8 8 8 8 8 8 8 8 8 8 8 8 8 8 8 8 8 8 8 8 8 8 8 8 8\n 8 8 8 8 8 8 8 8 8 8 8 8 8 8 8 8 8 8 8 8 8 8 8 8 8 8 8 8 8 8 8 8 8 8 8 8 8\n 8 8 8 8 8 8 8 8 8 8 8 8 8 8 8 8 8 8 8 8 8 8 8 8 8 8 8 8 8 8 8 8 8 8 8 8 8\n 8 8 8 8 8 8 8 8 8 8 8 8 8 8 8 8 8 8 8 8 8 8 8 8 8 8 8 8 8 8 8 8 8 8 8 8 8\n 8 8 8 8 8 8 8 8 8 8 8 8 8 8 8 8 8 8 8 8 8 8 8 8 8 8 8 8 8 8 8 8 8 8 8 8 8\n 8 8 8 8 8 8 8 8 8 8 8 8 8 8 8 8 8 8 8 8 8 8 8 8 8 8 8 8 8 8 8 8 8 8 8 8 8\n 3 3 3 3 3 3 3 3 3 3 3 3 3 3 3 3 3 3 3 3 3 3 3 3 3 3 3 3 3 3 3 3 3 3 3 3 4\n 4 4 4 4 4 4 4 4 4 4 4 4 4 4 4 4 4 4 4 4].\nReshape your data either using array.reshape(-1, 1) if your data has a single feature or array.reshape(1, -1) if it contains a single sample."
     ]
    }
   ],
   "source": [
    "from sklearn.multiclass import OneVsRestClassifier\n",
    "logreg6 = OneVsRestClassifier(LogisticRegression()).fit(x_train_std,y5_train.to_numpy().reshape(-1,1))\n",
    "logreg6.predict(y5_test)"
   ]
  },
  {
   "cell_type": "code",
   "execution_count": null,
   "metadata": {},
   "outputs": [],
   "source": [
    "plt.figure(figsize=[16,12])\n",
    "\n",
    "ax3 = plt.subplot(223)\n",
    "plot_confusion_matrix(logreg5_std, x_test_std, y5_test, ax = ax3)\n",
    "\n",
    "ax4 = plt.subplot(224)\n",
    "plot_confusion_matrix(logreg5_mm, x_test_mm, y5_test, ax = ax4)"
   ]
  }
 ],
 "metadata": {
  "kernelspec": {
   "display_name": "Python 3",
   "language": "python",
   "name": "python3"
  },
  "language_info": {
   "codemirror_mode": {
    "name": "ipython",
    "version": 3
   },
   "file_extension": ".py",
   "mimetype": "text/x-python",
   "name": "python",
   "nbconvert_exporter": "python",
   "pygments_lexer": "ipython3",
   "version": "3.6.8"
  }
 },
 "nbformat": 4,
 "nbformat_minor": 4
}
