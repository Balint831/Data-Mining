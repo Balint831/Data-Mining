{
 "cells": [
  {
   "cell_type": "markdown",
   "metadata": {},
   "source": [
    "# Supervised learning introduction, K-Nearest Neighbors (KNN)\n",
    "-----\n",
    "\n",
    "\n",
    "#### 1. Read data\n",
    "\n",
    "The provided three files (glass.data, glass.tag, glass.names) contains a small dataset. \"[The study of classification of types of glass was motivated by criminological investigation. At the scene of the crime, the glass left can be used as evidence...if it is correctly identified!](https://archive.ics.uci.edu/ml/datasets/Glass+Identification)\"\n",
    "\n",
    " - read the content of the glass.data file as a pandas dataframe\n",
    " - use the column names found in the glass.names file\n",
    " - if needed, handle the missing values\n",
    " - get rid of the ID column\n",
    " - separate the GlassType from the dataset and store it in a one-hot encoded manner (if we have 3 classes, than instead of 1, 2, 3 we use [1, 0, 0], [0, 1, 0] and [0, 0, 1]. So each dimension represents a class and 1 means the sample belongs to that class, 0 is the opposite)\n",
    "    - be careful, the data contains only 1-2-3-5-6-7, 4 is missing! Convert 5 $\\to$ 4, 6 $\\to$ 5 and 7 $\\to$ 6 and then apply the one-got encoding\n",
    "    - also keep the converted labels, where y is 1-2-3-4-5-6, we will need them later\n",
    " \n",
    "-----\n",
    "\n",
    "#### 2. \\& 3. Implement KNN\n",
    "\n",
    "Implement the K-nearest neighbors regression algorithm using only pure Python3 and numpy! Use L2 distance to find the neighbors. The prediction for each class should be the number of neighbors supporing the given class divided by **k** (for example if **k** is 5 and we have 3 neighbors for class A, 2 for class B and 0 for class C neighbors, then the prediction for class A should be 3/5, for class B 2/5, for class C 0/5). \n",
    "\n",
    "Complete the function!\n",
    "\n",
    "```python\n",
    "def knn_classifier(k, X_train, y_train, X_test):\n",
    "    ...\n",
    "    return predictions\n",
    "```\n",
    " - **k** is the number of neighbors to be considered\n",
    " - **X_train** is the training data points\n",
    " - **X_test** is the test data points\n",
    " - **y_train** is the labels for the training data\n",
    " - assume that **y_test** is one-hot encoded.\n",
    "\n",
    "A valid-syntaxed input looks like:\n",
    "````python\n",
    "k = 2\n",
    "X_train = [[0.9, 0.2, 0.8] , [-1.2, 1.5, 0.7], [5.8, 0.0, 0.9], [6.2, 0.9, 0.9]]\n",
    "y_train = [[0, 1], [0, 1], [1, 0], [0, 1]]\n",
    "X_test  = [[0.8, 0.8, 0.6], [0.5, 0.4, 0.3]]\n",
    "```\n",
    "\n",
    "Here, it means that the training data consists of 4 points, each point is placed in a 3 dimensional space. And there are two possible classes for each point and there are two data points for that predictions is needed.\n",
    "\n",
    "#### 4. Predictions & interpretation\n",
    "\n",
    "- use every second (0, 2, 4, etc indicies) datapoint as training data and use the rest (1, 3, 5, ...) as test data\n",
    "- generate predictions with the implemented KNN with k=5\n",
    "- calculate the accuracy and the confusion matrix for the predictions\n",
    "- if the probability is the same for two or more classes select the first one from the left in the one-hot encoded version (or which has the smallest number in the original dataset)\n",
    "\n",
    "-----\n",
    "\n",
    "#### 5. Compare it to Sklearn's KNN\n",
    "- using the same train/test split generate predictions with sklearn KNNs. Use 5 neighbors again\n",
    "- are the predictions the same as for our implementation? (they should be)\n",
    "   - note: to get sklearn perform the same algorithm as out implementation it expects you to provide non one-hot encoding labels. That's why we kept them in the first exercise\n",
    "\n",
    "\n",
    "-----\n",
    "\n",
    "\n",
    "### Hints:\n",
    " - On total you can get 10 points for fully completing all tasks.\n",
    " - Decorate your notebook with, questions, explanation etc, make it self contained and understandable!\n",
    " - Comments you code when necessary\n",
    " - Write functions for repetitive tasks!\n",
    " - Use the pandas package for data loading and handling\n",
    " - Use matplotlib and seaborn for plotting or bokeh and plotly for interactive investigation\n",
    " - Use the scikit learn package for almost everything\n",
    " - Use for loops only if it is really necessary!\n",
    " - Code sharing is not allowed between student! Sharing code will result in zero points.\n",
    " - If you use code found on web, it is OK, but, make its source clear! "
   ]
  },
  {
   "cell_type": "code",
   "execution_count": 1,
   "metadata": {},
   "outputs": [],
   "source": [
    "import pandas as pd\n",
    "import numpy as np\n",
    "import matplotlib.pyplot as plt \n",
    "import seaborn as sns"
   ]
  },
  {
   "cell_type": "markdown",
   "metadata": {},
   "source": [
    "# 1) Read data\n",
    "\n",
    "The provided three files (glass.data, glass.tag, glass.names) contains a small dataset. \"[The study of classification of types of glass was motivated by criminological investigation. At the scene of the crime, the glass left can be used as evidence...if it is correctly identified!](https://archive.ics.uci.edu/ml/datasets/Glass+Identification)\"\n",
    "\n",
    " - read the content of the glass.data file as a pandas dataframe\n",
    " - use the column names found in the glass.names file\n",
    " - if needed, handle the missing values\n",
    " - get rid of the ID column\n",
    " - separate the GlassType from the dataset and store it in a one-hot encoded manner (if we have 3 classes, than instead of 1, 2, 3 we use [1, 0, 0], [0, 1, 0] and [0, 0, 1]. So each dimension represents a class and 1 means the sample belongs to that class, 0 is the opposite)\n",
    "    - be careful, the data contains only 1-2-3-5-6-7, 4 is missing! Convert 5 $\\to$ 4, 6 $\\to$ 5 and 7 $\\to$ 6 and then apply the one-got encoding\n",
    "    - also keep the converted labels, where y is 1-2-3-4-5-6, we will need them later\n",
    " \n",
    "-----"
   ]
  },
  {
   "cell_type": "code",
   "execution_count": 2,
   "metadata": {},
   "outputs": [
    {
     "data": {
      "text/html": [
       "<div>\n",
       "<style scoped>\n",
       "    .dataframe tbody tr th:only-of-type {\n",
       "        vertical-align: middle;\n",
       "    }\n",
       "\n",
       "    .dataframe tbody tr th {\n",
       "        vertical-align: top;\n",
       "    }\n",
       "\n",
       "    .dataframe thead th {\n",
       "        text-align: right;\n",
       "    }\n",
       "</style>\n",
       "<table border=\"1\" class=\"dataframe\">\n",
       "  <thead>\n",
       "    <tr style=\"text-align: right;\">\n",
       "      <th></th>\n",
       "      <th>RI</th>\n",
       "      <th>Na</th>\n",
       "      <th>Mg</th>\n",
       "      <th>Al</th>\n",
       "      <th>Si</th>\n",
       "      <th>K</th>\n",
       "      <th>Ca</th>\n",
       "      <th>Ba</th>\n",
       "      <th>Fe</th>\n",
       "      <th>Type</th>\n",
       "    </tr>\n",
       "  </thead>\n",
       "  <tbody>\n",
       "    <tr>\n",
       "      <th>1</th>\n",
       "      <td>1.52101</td>\n",
       "      <td>13.64</td>\n",
       "      <td>4.49</td>\n",
       "      <td>1.10</td>\n",
       "      <td>71.78</td>\n",
       "      <td>0.06</td>\n",
       "      <td>8.75</td>\n",
       "      <td>0.0</td>\n",
       "      <td>0.0</td>\n",
       "      <td>1</td>\n",
       "    </tr>\n",
       "    <tr>\n",
       "      <th>2</th>\n",
       "      <td>1.51761</td>\n",
       "      <td>13.89</td>\n",
       "      <td>3.60</td>\n",
       "      <td>1.36</td>\n",
       "      <td>72.73</td>\n",
       "      <td>0.48</td>\n",
       "      <td>7.83</td>\n",
       "      <td>0.0</td>\n",
       "      <td>0.0</td>\n",
       "      <td>1</td>\n",
       "    </tr>\n",
       "    <tr>\n",
       "      <th>3</th>\n",
       "      <td>1.51618</td>\n",
       "      <td>13.53</td>\n",
       "      <td>3.55</td>\n",
       "      <td>1.54</td>\n",
       "      <td>72.99</td>\n",
       "      <td>0.39</td>\n",
       "      <td>7.78</td>\n",
       "      <td>0.0</td>\n",
       "      <td>0.0</td>\n",
       "      <td>1</td>\n",
       "    </tr>\n",
       "    <tr>\n",
       "      <th>4</th>\n",
       "      <td>1.51766</td>\n",
       "      <td>13.21</td>\n",
       "      <td>3.69</td>\n",
       "      <td>1.29</td>\n",
       "      <td>72.61</td>\n",
       "      <td>0.57</td>\n",
       "      <td>8.22</td>\n",
       "      <td>0.0</td>\n",
       "      <td>0.0</td>\n",
       "      <td>1</td>\n",
       "    </tr>\n",
       "    <tr>\n",
       "      <th>5</th>\n",
       "      <td>1.51742</td>\n",
       "      <td>13.27</td>\n",
       "      <td>3.62</td>\n",
       "      <td>1.24</td>\n",
       "      <td>73.08</td>\n",
       "      <td>0.55</td>\n",
       "      <td>8.07</td>\n",
       "      <td>0.0</td>\n",
       "      <td>0.0</td>\n",
       "      <td>1</td>\n",
       "    </tr>\n",
       "  </tbody>\n",
       "</table>\n",
       "</div>"
      ],
      "text/plain": [
       "        RI     Na    Mg    Al     Si     K    Ca   Ba   Fe  Type\n",
       "1  1.52101  13.64  4.49  1.10  71.78  0.06  8.75  0.0  0.0     1\n",
       "2  1.51761  13.89  3.60  1.36  72.73  0.48  7.83  0.0  0.0     1\n",
       "3  1.51618  13.53  3.55  1.54  72.99  0.39  7.78  0.0  0.0     1\n",
       "4  1.51766  13.21  3.69  1.29  72.61  0.57  8.22  0.0  0.0     1\n",
       "5  1.51742  13.27  3.62  1.24  73.08  0.55  8.07  0.0  0.0     1"
      ]
     },
     "execution_count": 2,
     "metadata": {},
     "output_type": "execute_result"
    }
   ],
   "source": [
    "data = pd.read_csv(\"glass.data\",index_col = 0, names = [\"RI\",\"Na\",\"Mg\",\"Al\", \"Si\",\"K\", \"Ca\", \"Ba\", \"Fe\",\"Type\"] )\n",
    "data.head()"
   ]
  },
  {
   "cell_type": "code",
   "execution_count": 3,
   "metadata": {},
   "outputs": [
    {
     "name": "stdout",
     "output_type": "stream",
     "text": [
      "Number of missing values by column:\n",
      " RI      0\n",
      "Na      0\n",
      "Mg      0\n",
      "Al      0\n",
      "Si      0\n",
      "K       0\n",
      "Ca      0\n",
      "Ba      0\n",
      "Fe      0\n",
      "Type    0\n",
      "dtype: int64\n"
     ]
    },
    {
     "data": {
      "image/png": "[encoded data removed]",
      "text/plain": [
       "<Figure size 2160x216 with 1 Axes>"
      ]
     },
     "metadata": {
      "needs_background": "light"
     },
     "output_type": "display_data"
    }
   ],
   "source": [
    "plt.figure(figsize = [30,3])\n",
    "plt.imshow(data.isna().T)\n",
    "print(\"Number of missing values by column:\\n\",data.isna().sum())"
   ]
  },
  {
   "cell_type": "markdown",
   "metadata": {},
   "source": [
    "<b> No missing values found. <b>"
   ]
  },
  {
   "cell_type": "code",
   "execution_count": 4,
   "metadata": {},
   "outputs": [
    {
     "data": {
      "text/html": [
       "<div>\n",
       "<style scoped>\n",
       "    .dataframe tbody tr th:only-of-type {\n",
       "        vertical-align: middle;\n",
       "    }\n",
       "\n",
       "    .dataframe tbody tr th {\n",
       "        vertical-align: top;\n",
       "    }\n",
       "\n",
       "    .dataframe thead th {\n",
       "        text-align: right;\n",
       "    }\n",
       "</style>\n",
       "<table border=\"1\" class=\"dataframe\">\n",
       "  <thead>\n",
       "    <tr style=\"text-align: right;\">\n",
       "      <th></th>\n",
       "      <th>RI</th>\n",
       "      <th>Na</th>\n",
       "      <th>Mg</th>\n",
       "      <th>Al</th>\n",
       "      <th>Si</th>\n",
       "      <th>K</th>\n",
       "      <th>Ca</th>\n",
       "      <th>Ba</th>\n",
       "      <th>Fe</th>\n",
       "      <th>Type</th>\n",
       "      <th>1</th>\n",
       "      <th>2</th>\n",
       "      <th>3</th>\n",
       "      <th>4</th>\n",
       "      <th>5</th>\n",
       "      <th>6</th>\n",
       "    </tr>\n",
       "  </thead>\n",
       "  <tbody>\n",
       "    <tr>\n",
       "      <th>1</th>\n",
       "      <td>1.52101</td>\n",
       "      <td>13.64</td>\n",
       "      <td>4.49</td>\n",
       "      <td>1.10</td>\n",
       "      <td>71.78</td>\n",
       "      <td>0.06</td>\n",
       "      <td>8.75</td>\n",
       "      <td>0.0</td>\n",
       "      <td>0.0</td>\n",
       "      <td>1</td>\n",
       "      <td>1</td>\n",
       "      <td>0</td>\n",
       "      <td>0</td>\n",
       "      <td>0</td>\n",
       "      <td>0</td>\n",
       "      <td>0</td>\n",
       "    </tr>\n",
       "    <tr>\n",
       "      <th>2</th>\n",
       "      <td>1.51761</td>\n",
       "      <td>13.89</td>\n",
       "      <td>3.60</td>\n",
       "      <td>1.36</td>\n",
       "      <td>72.73</td>\n",
       "      <td>0.48</td>\n",
       "      <td>7.83</td>\n",
       "      <td>0.0</td>\n",
       "      <td>0.0</td>\n",
       "      <td>1</td>\n",
       "      <td>1</td>\n",
       "      <td>0</td>\n",
       "      <td>0</td>\n",
       "      <td>0</td>\n",
       "      <td>0</td>\n",
       "      <td>0</td>\n",
       "    </tr>\n",
       "    <tr>\n",
       "      <th>3</th>\n",
       "      <td>1.51618</td>\n",
       "      <td>13.53</td>\n",
       "      <td>3.55</td>\n",
       "      <td>1.54</td>\n",
       "      <td>72.99</td>\n",
       "      <td>0.39</td>\n",
       "      <td>7.78</td>\n",
       "      <td>0.0</td>\n",
       "      <td>0.0</td>\n",
       "      <td>1</td>\n",
       "      <td>1</td>\n",
       "      <td>0</td>\n",
       "      <td>0</td>\n",
       "      <td>0</td>\n",
       "      <td>0</td>\n",
       "      <td>0</td>\n",
       "    </tr>\n",
       "    <tr>\n",
       "      <th>4</th>\n",
       "      <td>1.51766</td>\n",
       "      <td>13.21</td>\n",
       "      <td>3.69</td>\n",
       "      <td>1.29</td>\n",
       "      <td>72.61</td>\n",
       "      <td>0.57</td>\n",
       "      <td>8.22</td>\n",
       "      <td>0.0</td>\n",
       "      <td>0.0</td>\n",
       "      <td>1</td>\n",
       "      <td>1</td>\n",
       "      <td>0</td>\n",
       "      <td>0</td>\n",
       "      <td>0</td>\n",
       "      <td>0</td>\n",
       "      <td>0</td>\n",
       "    </tr>\n",
       "    <tr>\n",
       "      <th>5</th>\n",
       "      <td>1.51742</td>\n",
       "      <td>13.27</td>\n",
       "      <td>3.62</td>\n",
       "      <td>1.24</td>\n",
       "      <td>73.08</td>\n",
       "      <td>0.55</td>\n",
       "      <td>8.07</td>\n",
       "      <td>0.0</td>\n",
       "      <td>0.0</td>\n",
       "      <td>1</td>\n",
       "      <td>1</td>\n",
       "      <td>0</td>\n",
       "      <td>0</td>\n",
       "      <td>0</td>\n",
       "      <td>0</td>\n",
       "      <td>0</td>\n",
       "    </tr>\n",
       "  </tbody>\n",
       "</table>\n",
       "</div>"
      ],
      "text/plain": [
       "        RI     Na    Mg    Al     Si     K    Ca   Ba   Fe  Type  1  2  3  4  \\\n",
       "1  1.52101  13.64  4.49  1.10  71.78  0.06  8.75  0.0  0.0     1  1  0  0  0   \n",
       "2  1.51761  13.89  3.60  1.36  72.73  0.48  7.83  0.0  0.0     1  1  0  0  0   \n",
       "3  1.51618  13.53  3.55  1.54  72.99  0.39  7.78  0.0  0.0     1  1  0  0  0   \n",
       "4  1.51766  13.21  3.69  1.29  72.61  0.57  8.22  0.0  0.0     1  1  0  0  0   \n",
       "5  1.51742  13.27  3.62  1.24  73.08  0.55  8.07  0.0  0.0     1  1  0  0  0   \n",
       "\n",
       "   5  6  \n",
       "1  0  0  \n",
       "2  0  0  \n",
       "3  0  0  \n",
       "4  0  0  \n",
       "5  0  0  "
      ]
     },
     "execution_count": 4,
     "metadata": {},
     "output_type": "execute_result"
    }
   ],
   "source": [
    "convert_dict = {5: 4, 6: 5, 7: 6}\n",
    "data[\"Type\"] = data[\"Type\"].map(convert_dict).fillna(data[\"Type\"]) #Make the necessary conversion mentioned above\n",
    "data[\"Type\"] = pd.Series(data[\"Type\"], dtype = np.int16)\n",
    "\n",
    "one_hot_enc = pd.get_dummies(data[\"Type\"]) #perform one-hot encoding\n",
    "\n",
    "data = data.join(one_hot_enc)\n",
    "data.head()"
   ]
  },
  {
   "cell_type": "code",
   "execution_count": 5,
   "metadata": {},
   "outputs": [
    {
     "data": {
      "text/plain": [
       "2    76\n",
       "1    70\n",
       "6    29\n",
       "3    17\n",
       "4    13\n",
       "5     9\n",
       "Name: Type, dtype: int64"
      ]
     },
     "execution_count": 5,
     "metadata": {},
     "output_type": "execute_result"
    }
   ],
   "source": [
    "data.Type.value_counts() #We can see, that the conversion was succesful,"
   ]
  },
  {
   "cell_type": "code",
   "execution_count": 6,
   "metadata": {},
   "outputs": [
    {
     "name": "stdout",
     "output_type": "stream",
     "text": [
      "1 :  70\n",
      "2 :  76\n",
      "3 :  17\n",
      "4 :  13\n",
      "5 :  9\n",
      "6 :  29\n"
     ]
    }
   ],
   "source": [
    "for col in data.columns[10:]:\n",
    "    print(col,\": \" , data[col].sum()) # and the encoding is successful as well."
   ]
  },
  {
   "cell_type": "markdown",
   "metadata": {},
   "source": [
    "# 2-3) kNN implementation"
   ]
  },
  {
   "cell_type": "code",
   "execution_count": 7,
   "metadata": {},
   "outputs": [],
   "source": [
    "x_train = np.array([[0.9, 0.2, 0.8] , [-1.2, 1.5, 0.7], [5.8, 0.0, 0.9], [6.2, 0.9, 0.9]])\n",
    "y_train = np.array([[0, 1], [0, 1], [1, 0], [0, 1]])\n",
    "x_test  = np.array([[0.8, 0.8, 0.6], [0.5, 0.4, 0.3]])"
   ]
  },
  {
   "cell_type": "code",
   "execution_count": 8,
   "metadata": {},
   "outputs": [],
   "source": [
    "def kNN (k , x_train, y_train, x_test):\n",
    "    PROBS = []\n",
    "    for q in x_test:\n",
    "        distances = []\n",
    "        \n",
    "        for x in x_train:\n",
    "            distances.append(np.linalg.norm(q - x)) #take the euclidean (L2) norm of the difference\n",
    "            \n",
    "        vote_list = [ q for _,q in sorted(zip(distances,y_train))] #neighbours \"vote\" by descending distance\n",
    "        \n",
    "        prob = np.array(vote_list[:k]).sum(axis = 0) / k \n",
    "        #sum the votes and divide by k -> probability of being member of a certain cluster\n",
    "        PROBS.append(prob)\n",
    "    return np.array(PROBS)"
   ]
  },
  {
   "cell_type": "markdown",
   "metadata": {},
   "source": [
    "# 4) Predict & evaluate"
   ]
  },
  {
   "cell_type": "code",
   "execution_count": 9,
   "metadata": {},
   "outputs": [],
   "source": [
    "x_train = np.array(data[::2][[\"RI\",\"Na\",\"Mg\", \"Al\" ,\"Si\" ,\"K\" ,\"Ca\" ,\"Ba\",\"Fe\"]])\n",
    "y_train = np.array(data[::2][[1,2,3,4,5,6]])\n",
    "x_test = np.array(data[1::2][[\"RI\",\"Na\",\"Mg\", \"Al\" ,\"Si\" ,\"K\" ,\"Ca\" ,\"Ba\",\"Fe\"]])\n",
    "y_test = np.array(data[1::2][[1,2,3,4,5,6]])\n",
    "\n",
    "kNN_probs = kNN(5,x_train,y_train,x_test)"
   ]
  },
  {
   "cell_type": "code",
   "execution_count": 10,
   "metadata": {},
   "outputs": [
    {
     "data": {
      "text/plain": [
       "array([[0.4, 0.6, 0. , 0. , 0. , 0. ],\n",
       "       [0.2, 0.6, 0.2, 0. , 0. , 0. ],\n",
       "       [0.4, 0.6, 0. , 0. , 0. , 0. ],\n",
       "       [0.8, 0.2, 0. , 0. , 0. , 0. ],\n",
       "       [0.4, 0.6, 0. , 0. , 0. , 0. ]])"
      ]
     },
     "execution_count": 10,
     "metadata": {},
     "output_type": "execute_result"
    }
   ],
   "source": [
    "kNN_probs[:5,:] # the probability of the first five elements being associated with the certain cluster"
   ]
  },
  {
   "cell_type": "code",
   "execution_count": 11,
   "metadata": {},
   "outputs": [],
   "source": [
    "kNN_preds = np.argmax(kNN_probs,axis  = 1) + 1\n",
    "#the result of classification: choose the largest probability of association,\n",
    "#in case of multiple occurrances of the maximum values, the one with the lowest index is returned\n",
    "#reason of +1: indexing starts at 0, while our encoding is in the range of 1-6\n",
    "\n",
    "y_true = np.argmax(y_test, axis = 1) + 1"
   ]
  },
  {
   "cell_type": "code",
   "execution_count": 12,
   "metadata": {},
   "outputs": [
    {
     "data": {
      "text/plain": [
       "Text(0.5, 1.0, 'Confusion matrix')"
      ]
     },
     "execution_count": 12,
     "metadata": {},
     "output_type": "execute_result"
    },
    {
     "data": {
      "image/png": "[encoded data removed]",
      "text/plain": [
       "<Figure size 576x432 with 2 Axes>"
      ]
     },
     "metadata": {
      "needs_background": "light"
     },
     "output_type": "display_data"
    }
   ],
   "source": [
    "from sklearn.metrics import confusion_matrix\n",
    "conf_matr = confusion_matrix(y_true, kNN_preds)\n",
    "conf_matr_annot = pd.DataFrame(conf_matr, columns = np.arange(1,7), index = np.arange(1,7))\n",
    "\n",
    "plt.figure(figsize=[8,6])\n",
    "sns.heatmap(conf_matr_annot, annot = True)\n",
    "plt.ylabel(\"Ground truth\")\n",
    "plt.xlabel(\"Predicted class\")\n",
    "sns.set(font_scale=2)\n",
    "plt.title(\"Confusion matrix\")\n",
    "\n",
    "#Sci-kitlearn docs:\n",
    "#Confusion matrix whose i-th row and j-th column entry \n",
    "#indicates the number of samples with true label being \n",
    "#i-th class and predicted label being j-th class."
   ]
  },
  {
   "cell_type": "code",
   "execution_count": 13,
   "metadata": {},
   "outputs": [
    {
     "data": {
      "text/plain": [
       "0.29906542056074764"
      ]
     },
     "execution_count": 13,
     "metadata": {},
     "output_type": "execute_result"
    }
   ],
   "source": [
    "(conf_matr.sum() - np.diag(conf_matr).sum()) / conf_matr.sum() \n",
    "# Error-ratio: 0.299"
   ]
  },
  {
   "cell_type": "markdown",
   "metadata": {},
   "source": [
    "We can conclude, that kNN with k = 5 predicts the labels with quite good accuracy when the ground trouth is 1, 2 or 6, but performs poorly on 3,4 or 5. The main reason behind the lower accuracy can be that it has fewer occurances in the dataset. <br> <b>In average the accurately predicted ratio of labels is 70%."
   ]
  },
  {
   "cell_type": "code",
   "execution_count": 14,
   "metadata": {},
   "outputs": [],
   "source": [
    "def my_confusion_matrix(x_train, y_train , x_test):\n",
    "    kNN_probs = kNN(5,x_train, y_train,x_test)\n",
    "    kNN_preds = np.argmax(kNN_probs,axis  = 1) + 1\n",
    "    conf_matr = confusion_matrix(y_true, kNN_preds)\n",
    "    conf_matr_annot = pd.DataFrame(conf_matr, columns = np.arange(1,7), index = np.arange(1,7))\n",
    "    return conf_matr_annot\n",
    "    \n",
    "    "
   ]
  },
  {
   "cell_type": "code",
   "execution_count": 15,
   "metadata": {},
   "outputs": [],
   "source": [
    "from sklearn.preprocessing import StandardScaler, MinMaxScaler\n",
    "\n",
    "sscaler = StandardScaler()\n",
    "mmscaler = MinMaxScaler()\n",
    "\n",
    "x_train_std = sscaler.fit_transform(x_train)\n",
    "x_test_std = sscaler.transform(x_test)\n",
    "\n",
    "x_train_mm = mmscaler.fit_transform(x_train)\n",
    "x_test_mm = mmscaler.transform(x_test)\n",
    "\n",
    "cm_std = my_confusion_matrix( x_train_std, y_train ,  x_test_std)\n",
    "cm_mm = my_confusion_matrix( x_train_mm, y_train ,  x_test_mm)"
   ]
  },
  {
   "cell_type": "code",
   "execution_count": 16,
   "metadata": {},
   "outputs": [
    {
     "data": {
      "text/plain": [
       "Text(0.5, 1.0, 'MinMax norm')"
      ]
     },
     "execution_count": 16,
     "metadata": {},
     "output_type": "execute_result"
    },
    {
     "data": {
      "image/png": "[encoded data removed]",
      "text/plain": [
       "<Figure size 1152x432 with 4 Axes>"
      ]
     },
     "metadata": {},
     "output_type": "display_data"
    }
   ],
   "source": [
    "fig, axes = plt.subplots(1,2, figsize=[16,6])\n",
    "sns.heatmap(cm_std,ax = axes[0], annot = True)\n",
    "fig.suptitle(\"Confusion matrices\")\n",
    "\n",
    "axes[0].set_ylabel(\"Ground truth\")\n",
    "axes[0].set_xlabel(\"Predicted class\")\n",
    "sns.set(font_scale=2)\n",
    "axes[0].set_title(\"Standard norm\")\n",
    "\n",
    "sns.heatmap(cm_mm,ax = axes[1], annot = True)\n",
    "axes[1].set_ylabel(\"Ground truth\")\n",
    "axes[1].set_xlabel(\"Predicted class\")\n",
    "sns.set(font_scale=2)\n",
    "axes[1].set_title(\"MinMax norm\")\n",
    "\n"
   ]
  },
  {
   "cell_type": "code",
   "execution_count": 17,
   "metadata": {},
   "outputs": [
    {
     "data": {
      "text/plain": [
       "array([[30,  5,  0,  0,  0,  0],\n",
       "       [ 7, 29,  1,  1,  0,  0],\n",
       "       [ 5,  2,  1,  0,  0,  0],\n",
       "       [ 0,  3,  0,  3,  0,  1],\n",
       "       [ 2,  1,  0,  0,  1,  0],\n",
       "       [ 1,  2,  0,  0,  0, 12]])"
      ]
     },
     "execution_count": 17,
     "metadata": {},
     "output_type": "execute_result"
    }
   ],
   "source": [
    "cm_std.to_numpy()"
   ]
  },
  {
   "cell_type": "code",
   "execution_count": 18,
   "metadata": {},
   "outputs": [
    {
     "name": "stdout",
     "output_type": "stream",
     "text": [
      "normalized with standard scaler - error ratio: 0.2897196261682243\n",
      "normalized with minmax scaler - error ratio: 0.32710280373831774\n"
     ]
    }
   ],
   "source": [
    "print(\"normalized with standard scaler - error ratio:\",(cm_std.to_numpy().sum() - np.diag(cm_std.to_numpy()).sum()) / cm_std.to_numpy().sum() )\n",
    "print(\"normalized with minmax scaler - error ratio:\",(cm_mm.to_numpy().sum() - np.diag(cm_mm.to_numpy()).sum()) / cm_mm.to_numpy().sum() )"
   ]
  },
  {
   "cell_type": "markdown",
   "metadata": {},
   "source": [
    "My first thought was that we could reach better accuracy by normalizing the data. I used two different normalizer method: the standard scaler and the minmax scaler.  <br>\n",
    "From the confusion matrices and the error-ratios we can conclude, that in this case normalization hasn't brought much better solutions to the table."
   ]
  },
  {
   "cell_type": "markdown",
   "metadata": {},
   "source": [
    "# 5) Scikit comparison"
   ]
  },
  {
   "cell_type": "code",
   "execution_count": 36,
   "metadata": {},
   "outputs": [
    {
     "data": {
      "text/plain": [
       "Text(0.5, 1.0, 'From scratch')"
      ]
     },
     "execution_count": 36,
     "metadata": {},
     "output_type": "execute_result"
    },
    {
     "data": {
      "image/png": "[encoded data removed]",
      "text/plain": [
       "<Figure size 1152x432 with 4 Axes>"
      ]
     },
     "metadata": {},
     "output_type": "display_data"
    }
   ],
   "source": [
    "from sklearn.neighbors import KNeighborsClassifier\n",
    "from sklearn.metrics import plot_confusion_matrix\n",
    "\n",
    "neigh = KNeighborsClassifier(n_neighbors=5, metric = \"euclidean\")\n",
    "neigh.fit(x_train,data[::2][\"Type\"])\n",
    "y_test_sk = neigh.predict(x_test)\n",
    "cm_sk = confusion_matrix(y_true, y_test_sk)\n",
    "cm_sk_annot = pd.DataFrame(cm_sk, columns = np.arange(1,7), index = np.arange(1,7))\n",
    "\n",
    "\n",
    "fig, axes = plt.subplots(1,2, figsize=[16,6])\n",
    "plt.suptitle(\"Confusion matrices\")\n",
    "\n",
    "sns.heatmap(cm_sk_annot, ax = axes[0], annot = True)\n",
    "axes[0].set_ylabel(\"Ground truth\")\n",
    "axes[0].set_xlabel(\"Predicted class\")\n",
    "sns.set(font_scale=2)\n",
    "axes[0].set_title(\"Sklearn\")\n",
    "\n",
    "sns.heatmap(conf_matr_annot, ax = axes[1], annot = True)\n",
    "axes[1].set_ylabel(\"Ground truth\")\n",
    "axes[1].set_xlabel(\"Predicted class\")\n",
    "sns.set(font_scale=2)\n",
    "axes[1].set_title(\"From scratch\")"
   ]
  },
  {
   "cell_type": "markdown",
   "metadata": {},
   "source": [
    "        The graph above proves that our version of the kNN-algorithm doesn't deviate from the scikit implementation in terms of returns, so our version, that was built from scratch, was formulated properly."
   ]
  }
 ],
 "metadata": {
  "kernelspec": {
   "display_name": "Python 3",
   "language": "python",
   "name": "python3"
  },
  "language_info": {
   "codemirror_mode": {
    "name": "ipython",
    "version": 3
   },
   "file_extension": ".py",
   "mimetype": "text/x-python",
   "name": "python",
   "nbconvert_exporter": "python",
   "pygments_lexer": "ipython3",
   "version": "3.6.8"
  }
 },
 "nbformat": 4,
 "nbformat_minor": 4
}
